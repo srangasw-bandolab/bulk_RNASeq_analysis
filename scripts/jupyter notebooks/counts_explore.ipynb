{
 "cells": [
  {
   "cell_type": "code",
   "execution_count": 1,
   "id": "2618b5f6-d57f-4503-b0ad-3c3ed5054971",
   "metadata": {},
   "outputs": [
    {
     "name": "stderr",
     "output_type": "stream",
     "text": [
      "\n",
      "Attaching package: 'dplyr'\n",
      "\n",
      "\n",
      "The following objects are masked from 'package:stats':\n",
      "\n",
      "    filter, lag\n",
      "\n",
      "\n",
      "The following objects are masked from 'package:base':\n",
      "\n",
      "    intersect, setdiff, setequal, union\n",
      "\n",
      "\n",
      "Loading required package: SeuratObject\n",
      "\n",
      "Loading required package: sp\n",
      "\n",
      "'SeuratObject' was built with package 'Matrix' 1.6.5 but the current\n",
      "version is 1.7.1; it is recomended that you reinstall 'SeuratObject' as\n",
      "the ABI for 'Matrix' may have changed\n",
      "\n",
      "\n",
      "Attaching package: 'SeuratObject'\n",
      "\n",
      "\n",
      "The following objects are masked from 'package:base':\n",
      "\n",
      "    intersect, t\n",
      "\n",
      "\n",
      "\n",
      "Attaching package: 'anndata'\n",
      "\n",
      "\n",
      "The following object is masked from 'package:SeuratObject':\n",
      "\n",
      "    Layers\n",
      "\n",
      "\n",
      "\n",
      "Attaching package: 'readxl'\n",
      "\n",
      "\n",
      "The following object is masked from 'package:anndata':\n",
      "\n",
      "    read_excel\n",
      "\n",
      "\n"
     ]
    },
    {
     "data": {
      "text/html": [
       "<ol>\n",
       "\t<li><style>\n",
       ".list-inline {list-style: none; margin:0; padding: 0}\n",
       ".list-inline>li {display: inline-block}\n",
       ".list-inline>li:not(:last-child)::after {content: \"\\00b7\"; padding: 0 .5ex}\n",
       "</style>\n",
       "<ol class=list-inline><li>'dplyr'</li><li>'stats'</li><li>'graphics'</li><li>'grDevices'</li><li>'utils'</li><li>'datasets'</li><li>'methods'</li><li>'base'</li></ol>\n",
       "</li>\n",
       "\t<li><style>\n",
       ".list-inline {list-style: none; margin:0; padding: 0}\n",
       ".list-inline>li {display: inline-block}\n",
       ".list-inline>li:not(:last-child)::after {content: \"\\00b7\"; padding: 0 .5ex}\n",
       "</style>\n",
       "<ol class=list-inline><li>'Seurat'</li><li>'SeuratObject'</li><li>'sp'</li><li>'dplyr'</li><li>'stats'</li><li>'graphics'</li><li>'grDevices'</li><li>'utils'</li><li>'datasets'</li><li>'methods'</li><li>'base'</li></ol>\n",
       "</li>\n",
       "\t<li><style>\n",
       ".list-inline {list-style: none; margin:0; padding: 0}\n",
       ".list-inline>li {display: inline-block}\n",
       ".list-inline>li:not(:last-child)::after {content: \"\\00b7\"; padding: 0 .5ex}\n",
       "</style>\n",
       "<ol class=list-inline><li>'ggplot2'</li><li>'Seurat'</li><li>'SeuratObject'</li><li>'sp'</li><li>'dplyr'</li><li>'stats'</li><li>'graphics'</li><li>'grDevices'</li><li>'utils'</li><li>'datasets'</li><li>'methods'</li><li>'base'</li></ol>\n",
       "</li>\n",
       "\t<li><style>\n",
       ".list-inline {list-style: none; margin:0; padding: 0}\n",
       ".list-inline>li {display: inline-block}\n",
       ".list-inline>li:not(:last-child)::after {content: \"\\00b7\"; padding: 0 .5ex}\n",
       "</style>\n",
       "<ol class=list-inline><li>'anndata'</li><li>'ggplot2'</li><li>'Seurat'</li><li>'SeuratObject'</li><li>'sp'</li><li>'dplyr'</li><li>'stats'</li><li>'graphics'</li><li>'grDevices'</li><li>'utils'</li><li>'datasets'</li><li>'methods'</li><li>'base'</li></ol>\n",
       "</li>\n",
       "\t<li><style>\n",
       ".list-inline {list-style: none; margin:0; padding: 0}\n",
       ".list-inline>li {display: inline-block}\n",
       ".list-inline>li:not(:last-child)::after {content: \"\\00b7\"; padding: 0 .5ex}\n",
       "</style>\n",
       "<ol class=list-inline><li>'readxl'</li><li>'anndata'</li><li>'ggplot2'</li><li>'Seurat'</li><li>'SeuratObject'</li><li>'sp'</li><li>'dplyr'</li><li>'stats'</li><li>'graphics'</li><li>'grDevices'</li><li>'utils'</li><li>'datasets'</li><li>'methods'</li><li>'base'</li></ol>\n",
       "</li>\n",
       "\t<li><style>\n",
       ".list-inline {list-style: none; margin:0; padding: 0}\n",
       ".list-inline>li {display: inline-block}\n",
       ".list-inline>li:not(:last-child)::after {content: \"\\00b7\"; padding: 0 .5ex}\n",
       "</style>\n",
       "<ol class=list-inline><li>'RColorBrewer'</li><li>'readxl'</li><li>'anndata'</li><li>'ggplot2'</li><li>'Seurat'</li><li>'SeuratObject'</li><li>'sp'</li><li>'dplyr'</li><li>'stats'</li><li>'graphics'</li><li>'grDevices'</li><li>'utils'</li><li>'datasets'</li><li>'methods'</li><li>'base'</li></ol>\n",
       "</li>\n",
       "\t<li><style>\n",
       ".list-inline {list-style: none; margin:0; padding: 0}\n",
       ".list-inline>li {display: inline-block}\n",
       ".list-inline>li:not(:last-child)::after {content: \"\\00b7\"; padding: 0 .5ex}\n",
       "</style>\n",
       "<ol class=list-inline><li>'reticulate'</li><li>'RColorBrewer'</li><li>'readxl'</li><li>'anndata'</li><li>'ggplot2'</li><li>'Seurat'</li><li>'SeuratObject'</li><li>'sp'</li><li>'dplyr'</li><li>'stats'</li><li>'graphics'</li><li>'grDevices'</li><li>'utils'</li><li>'datasets'</li><li>'methods'</li><li>'base'</li></ol>\n",
       "</li>\n",
       "\t<li><style>\n",
       ".list-inline {list-style: none; margin:0; padding: 0}\n",
       ".list-inline>li {display: inline-block}\n",
       ".list-inline>li:not(:last-child)::after {content: \"\\00b7\"; padding: 0 .5ex}\n",
       "</style>\n",
       "<ol class=list-inline><li>'sceasy'</li><li>'reticulate'</li><li>'RColorBrewer'</li><li>'readxl'</li><li>'anndata'</li><li>'ggplot2'</li><li>'Seurat'</li><li>'SeuratObject'</li><li>'sp'</li><li>'dplyr'</li><li>'stats'</li><li>'graphics'</li><li>'grDevices'</li><li>'utils'</li><li>'datasets'</li><li>'methods'</li><li>'base'</li></ol>\n",
       "</li>\n",
       "\t<li><style>\n",
       ".list-inline {list-style: none; margin:0; padding: 0}\n",
       ".list-inline>li {display: inline-block}\n",
       ".list-inline>li:not(:last-child)::after {content: \"\\00b7\"; padding: 0 .5ex}\n",
       "</style>\n",
       "<ol class=list-inline><li>'Polychrome'</li><li>'sceasy'</li><li>'reticulate'</li><li>'RColorBrewer'</li><li>'readxl'</li><li>'anndata'</li><li>'ggplot2'</li><li>'Seurat'</li><li>'SeuratObject'</li><li>'sp'</li><li>'dplyr'</li><li>'stats'</li><li>'graphics'</li><li>'grDevices'</li><li>'utils'</li><li>'datasets'</li><li>'methods'</li><li>'base'</li></ol>\n",
       "</li>\n",
       "\t<li><style>\n",
       ".list-inline {list-style: none; margin:0; padding: 0}\n",
       ".list-inline>li {display: inline-block}\n",
       ".list-inline>li:not(:last-child)::after {content: \"\\00b7\"; padding: 0 .5ex}\n",
       "</style>\n",
       "<ol class=list-inline><li>'stringr'</li><li>'Polychrome'</li><li>'sceasy'</li><li>'reticulate'</li><li>'RColorBrewer'</li><li>'readxl'</li><li>'anndata'</li><li>'ggplot2'</li><li>'Seurat'</li><li>'SeuratObject'</li><li>'sp'</li><li>'dplyr'</li><li>'stats'</li><li>'graphics'</li><li>'grDevices'</li><li>'utils'</li><li>'datasets'</li><li>'methods'</li><li>'base'</li></ol>\n",
       "</li>\n",
       "</ol>\n"
      ],
      "text/latex": [
       "\\begin{enumerate}\n",
       "\\item \\begin{enumerate*}\n",
       "\\item 'dplyr'\n",
       "\\item 'stats'\n",
       "\\item 'graphics'\n",
       "\\item 'grDevices'\n",
       "\\item 'utils'\n",
       "\\item 'datasets'\n",
       "\\item 'methods'\n",
       "\\item 'base'\n",
       "\\end{enumerate*}\n",
       "\n",
       "\\item \\begin{enumerate*}\n",
       "\\item 'Seurat'\n",
       "\\item 'SeuratObject'\n",
       "\\item 'sp'\n",
       "\\item 'dplyr'\n",
       "\\item 'stats'\n",
       "\\item 'graphics'\n",
       "\\item 'grDevices'\n",
       "\\item 'utils'\n",
       "\\item 'datasets'\n",
       "\\item 'methods'\n",
       "\\item 'base'\n",
       "\\end{enumerate*}\n",
       "\n",
       "\\item \\begin{enumerate*}\n",
       "\\item 'ggplot2'\n",
       "\\item 'Seurat'\n",
       "\\item 'SeuratObject'\n",
       "\\item 'sp'\n",
       "\\item 'dplyr'\n",
       "\\item 'stats'\n",
       "\\item 'graphics'\n",
       "\\item 'grDevices'\n",
       "\\item 'utils'\n",
       "\\item 'datasets'\n",
       "\\item 'methods'\n",
       "\\item 'base'\n",
       "\\end{enumerate*}\n",
       "\n",
       "\\item \\begin{enumerate*}\n",
       "\\item 'anndata'\n",
       "\\item 'ggplot2'\n",
       "\\item 'Seurat'\n",
       "\\item 'SeuratObject'\n",
       "\\item 'sp'\n",
       "\\item 'dplyr'\n",
       "\\item 'stats'\n",
       "\\item 'graphics'\n",
       "\\item 'grDevices'\n",
       "\\item 'utils'\n",
       "\\item 'datasets'\n",
       "\\item 'methods'\n",
       "\\item 'base'\n",
       "\\end{enumerate*}\n",
       "\n",
       "\\item \\begin{enumerate*}\n",
       "\\item 'readxl'\n",
       "\\item 'anndata'\n",
       "\\item 'ggplot2'\n",
       "\\item 'Seurat'\n",
       "\\item 'SeuratObject'\n",
       "\\item 'sp'\n",
       "\\item 'dplyr'\n",
       "\\item 'stats'\n",
       "\\item 'graphics'\n",
       "\\item 'grDevices'\n",
       "\\item 'utils'\n",
       "\\item 'datasets'\n",
       "\\item 'methods'\n",
       "\\item 'base'\n",
       "\\end{enumerate*}\n",
       "\n",
       "\\item \\begin{enumerate*}\n",
       "\\item 'RColorBrewer'\n",
       "\\item 'readxl'\n",
       "\\item 'anndata'\n",
       "\\item 'ggplot2'\n",
       "\\item 'Seurat'\n",
       "\\item 'SeuratObject'\n",
       "\\item 'sp'\n",
       "\\item 'dplyr'\n",
       "\\item 'stats'\n",
       "\\item 'graphics'\n",
       "\\item 'grDevices'\n",
       "\\item 'utils'\n",
       "\\item 'datasets'\n",
       "\\item 'methods'\n",
       "\\item 'base'\n",
       "\\end{enumerate*}\n",
       "\n",
       "\\item \\begin{enumerate*}\n",
       "\\item 'reticulate'\n",
       "\\item 'RColorBrewer'\n",
       "\\item 'readxl'\n",
       "\\item 'anndata'\n",
       "\\item 'ggplot2'\n",
       "\\item 'Seurat'\n",
       "\\item 'SeuratObject'\n",
       "\\item 'sp'\n",
       "\\item 'dplyr'\n",
       "\\item 'stats'\n",
       "\\item 'graphics'\n",
       "\\item 'grDevices'\n",
       "\\item 'utils'\n",
       "\\item 'datasets'\n",
       "\\item 'methods'\n",
       "\\item 'base'\n",
       "\\end{enumerate*}\n",
       "\n",
       "\\item \\begin{enumerate*}\n",
       "\\item 'sceasy'\n",
       "\\item 'reticulate'\n",
       "\\item 'RColorBrewer'\n",
       "\\item 'readxl'\n",
       "\\item 'anndata'\n",
       "\\item 'ggplot2'\n",
       "\\item 'Seurat'\n",
       "\\item 'SeuratObject'\n",
       "\\item 'sp'\n",
       "\\item 'dplyr'\n",
       "\\item 'stats'\n",
       "\\item 'graphics'\n",
       "\\item 'grDevices'\n",
       "\\item 'utils'\n",
       "\\item 'datasets'\n",
       "\\item 'methods'\n",
       "\\item 'base'\n",
       "\\end{enumerate*}\n",
       "\n",
       "\\item \\begin{enumerate*}\n",
       "\\item 'Polychrome'\n",
       "\\item 'sceasy'\n",
       "\\item 'reticulate'\n",
       "\\item 'RColorBrewer'\n",
       "\\item 'readxl'\n",
       "\\item 'anndata'\n",
       "\\item 'ggplot2'\n",
       "\\item 'Seurat'\n",
       "\\item 'SeuratObject'\n",
       "\\item 'sp'\n",
       "\\item 'dplyr'\n",
       "\\item 'stats'\n",
       "\\item 'graphics'\n",
       "\\item 'grDevices'\n",
       "\\item 'utils'\n",
       "\\item 'datasets'\n",
       "\\item 'methods'\n",
       "\\item 'base'\n",
       "\\end{enumerate*}\n",
       "\n",
       "\\item \\begin{enumerate*}\n",
       "\\item 'stringr'\n",
       "\\item 'Polychrome'\n",
       "\\item 'sceasy'\n",
       "\\item 'reticulate'\n",
       "\\item 'RColorBrewer'\n",
       "\\item 'readxl'\n",
       "\\item 'anndata'\n",
       "\\item 'ggplot2'\n",
       "\\item 'Seurat'\n",
       "\\item 'SeuratObject'\n",
       "\\item 'sp'\n",
       "\\item 'dplyr'\n",
       "\\item 'stats'\n",
       "\\item 'graphics'\n",
       "\\item 'grDevices'\n",
       "\\item 'utils'\n",
       "\\item 'datasets'\n",
       "\\item 'methods'\n",
       "\\item 'base'\n",
       "\\end{enumerate*}\n",
       "\n",
       "\\end{enumerate}\n"
      ],
      "text/markdown": [
       "1. 1. 'dplyr'\n",
       "2. 'stats'\n",
       "3. 'graphics'\n",
       "4. 'grDevices'\n",
       "5. 'utils'\n",
       "6. 'datasets'\n",
       "7. 'methods'\n",
       "8. 'base'\n",
       "\n",
       "\n",
       "\n",
       "2. 1. 'Seurat'\n",
       "2. 'SeuratObject'\n",
       "3. 'sp'\n",
       "4. 'dplyr'\n",
       "5. 'stats'\n",
       "6. 'graphics'\n",
       "7. 'grDevices'\n",
       "8. 'utils'\n",
       "9. 'datasets'\n",
       "10. 'methods'\n",
       "11. 'base'\n",
       "\n",
       "\n",
       "\n",
       "3. 1. 'ggplot2'\n",
       "2. 'Seurat'\n",
       "3. 'SeuratObject'\n",
       "4. 'sp'\n",
       "5. 'dplyr'\n",
       "6. 'stats'\n",
       "7. 'graphics'\n",
       "8. 'grDevices'\n",
       "9. 'utils'\n",
       "10. 'datasets'\n",
       "11. 'methods'\n",
       "12. 'base'\n",
       "\n",
       "\n",
       "\n",
       "4. 1. 'anndata'\n",
       "2. 'ggplot2'\n",
       "3. 'Seurat'\n",
       "4. 'SeuratObject'\n",
       "5. 'sp'\n",
       "6. 'dplyr'\n",
       "7. 'stats'\n",
       "8. 'graphics'\n",
       "9. 'grDevices'\n",
       "10. 'utils'\n",
       "11. 'datasets'\n",
       "12. 'methods'\n",
       "13. 'base'\n",
       "\n",
       "\n",
       "\n",
       "5. 1. 'readxl'\n",
       "2. 'anndata'\n",
       "3. 'ggplot2'\n",
       "4. 'Seurat'\n",
       "5. 'SeuratObject'\n",
       "6. 'sp'\n",
       "7. 'dplyr'\n",
       "8. 'stats'\n",
       "9. 'graphics'\n",
       "10. 'grDevices'\n",
       "11. 'utils'\n",
       "12. 'datasets'\n",
       "13. 'methods'\n",
       "14. 'base'\n",
       "\n",
       "\n",
       "\n",
       "6. 1. 'RColorBrewer'\n",
       "2. 'readxl'\n",
       "3. 'anndata'\n",
       "4. 'ggplot2'\n",
       "5. 'Seurat'\n",
       "6. 'SeuratObject'\n",
       "7. 'sp'\n",
       "8. 'dplyr'\n",
       "9. 'stats'\n",
       "10. 'graphics'\n",
       "11. 'grDevices'\n",
       "12. 'utils'\n",
       "13. 'datasets'\n",
       "14. 'methods'\n",
       "15. 'base'\n",
       "\n",
       "\n",
       "\n",
       "7. 1. 'reticulate'\n",
       "2. 'RColorBrewer'\n",
       "3. 'readxl'\n",
       "4. 'anndata'\n",
       "5. 'ggplot2'\n",
       "6. 'Seurat'\n",
       "7. 'SeuratObject'\n",
       "8. 'sp'\n",
       "9. 'dplyr'\n",
       "10. 'stats'\n",
       "11. 'graphics'\n",
       "12. 'grDevices'\n",
       "13. 'utils'\n",
       "14. 'datasets'\n",
       "15. 'methods'\n",
       "16. 'base'\n",
       "\n",
       "\n",
       "\n",
       "8. 1. 'sceasy'\n",
       "2. 'reticulate'\n",
       "3. 'RColorBrewer'\n",
       "4. 'readxl'\n",
       "5. 'anndata'\n",
       "6. 'ggplot2'\n",
       "7. 'Seurat'\n",
       "8. 'SeuratObject'\n",
       "9. 'sp'\n",
       "10. 'dplyr'\n",
       "11. 'stats'\n",
       "12. 'graphics'\n",
       "13. 'grDevices'\n",
       "14. 'utils'\n",
       "15. 'datasets'\n",
       "16. 'methods'\n",
       "17. 'base'\n",
       "\n",
       "\n",
       "\n",
       "9. 1. 'Polychrome'\n",
       "2. 'sceasy'\n",
       "3. 'reticulate'\n",
       "4. 'RColorBrewer'\n",
       "5. 'readxl'\n",
       "6. 'anndata'\n",
       "7. 'ggplot2'\n",
       "8. 'Seurat'\n",
       "9. 'SeuratObject'\n",
       "10. 'sp'\n",
       "11. 'dplyr'\n",
       "12. 'stats'\n",
       "13. 'graphics'\n",
       "14. 'grDevices'\n",
       "15. 'utils'\n",
       "16. 'datasets'\n",
       "17. 'methods'\n",
       "18. 'base'\n",
       "\n",
       "\n",
       "\n",
       "10. 1. 'stringr'\n",
       "2. 'Polychrome'\n",
       "3. 'sceasy'\n",
       "4. 'reticulate'\n",
       "5. 'RColorBrewer'\n",
       "6. 'readxl'\n",
       "7. 'anndata'\n",
       "8. 'ggplot2'\n",
       "9. 'Seurat'\n",
       "10. 'SeuratObject'\n",
       "11. 'sp'\n",
       "12. 'dplyr'\n",
       "13. 'stats'\n",
       "14. 'graphics'\n",
       "15. 'grDevices'\n",
       "16. 'utils'\n",
       "17. 'datasets'\n",
       "18. 'methods'\n",
       "19. 'base'\n",
       "\n",
       "\n",
       "\n",
       "\n",
       "\n"
      ],
      "text/plain": [
       "[[1]]\n",
       "[1] \"dplyr\"     \"stats\"     \"graphics\"  \"grDevices\" \"utils\"     \"datasets\" \n",
       "[7] \"methods\"   \"base\"     \n",
       "\n",
       "[[2]]\n",
       " [1] \"Seurat\"       \"SeuratObject\" \"sp\"           \"dplyr\"        \"stats\"       \n",
       " [6] \"graphics\"     \"grDevices\"    \"utils\"        \"datasets\"     \"methods\"     \n",
       "[11] \"base\"        \n",
       "\n",
       "[[3]]\n",
       " [1] \"ggplot2\"      \"Seurat\"       \"SeuratObject\" \"sp\"           \"dplyr\"       \n",
       " [6] \"stats\"        \"graphics\"     \"grDevices\"    \"utils\"        \"datasets\"    \n",
       "[11] \"methods\"      \"base\"        \n",
       "\n",
       "[[4]]\n",
       " [1] \"anndata\"      \"ggplot2\"      \"Seurat\"       \"SeuratObject\" \"sp\"          \n",
       " [6] \"dplyr\"        \"stats\"        \"graphics\"     \"grDevices\"    \"utils\"       \n",
       "[11] \"datasets\"     \"methods\"      \"base\"        \n",
       "\n",
       "[[5]]\n",
       " [1] \"readxl\"       \"anndata\"      \"ggplot2\"      \"Seurat\"       \"SeuratObject\"\n",
       " [6] \"sp\"           \"dplyr\"        \"stats\"        \"graphics\"     \"grDevices\"   \n",
       "[11] \"utils\"        \"datasets\"     \"methods\"      \"base\"        \n",
       "\n",
       "[[6]]\n",
       " [1] \"RColorBrewer\" \"readxl\"       \"anndata\"      \"ggplot2\"      \"Seurat\"      \n",
       " [6] \"SeuratObject\" \"sp\"           \"dplyr\"        \"stats\"        \"graphics\"    \n",
       "[11] \"grDevices\"    \"utils\"        \"datasets\"     \"methods\"      \"base\"        \n",
       "\n",
       "[[7]]\n",
       " [1] \"reticulate\"   \"RColorBrewer\" \"readxl\"       \"anndata\"      \"ggplot2\"     \n",
       " [6] \"Seurat\"       \"SeuratObject\" \"sp\"           \"dplyr\"        \"stats\"       \n",
       "[11] \"graphics\"     \"grDevices\"    \"utils\"        \"datasets\"     \"methods\"     \n",
       "[16] \"base\"        \n",
       "\n",
       "[[8]]\n",
       " [1] \"sceasy\"       \"reticulate\"   \"RColorBrewer\" \"readxl\"       \"anndata\"     \n",
       " [6] \"ggplot2\"      \"Seurat\"       \"SeuratObject\" \"sp\"           \"dplyr\"       \n",
       "[11] \"stats\"        \"graphics\"     \"grDevices\"    \"utils\"        \"datasets\"    \n",
       "[16] \"methods\"      \"base\"        \n",
       "\n",
       "[[9]]\n",
       " [1] \"Polychrome\"   \"sceasy\"       \"reticulate\"   \"RColorBrewer\" \"readxl\"      \n",
       " [6] \"anndata\"      \"ggplot2\"      \"Seurat\"       \"SeuratObject\" \"sp\"          \n",
       "[11] \"dplyr\"        \"stats\"        \"graphics\"     \"grDevices\"    \"utils\"       \n",
       "[16] \"datasets\"     \"methods\"      \"base\"        \n",
       "\n",
       "[[10]]\n",
       " [1] \"stringr\"      \"Polychrome\"   \"sceasy\"       \"reticulate\"   \"RColorBrewer\"\n",
       " [6] \"readxl\"       \"anndata\"      \"ggplot2\"      \"Seurat\"       \"SeuratObject\"\n",
       "[11] \"sp\"           \"dplyr\"        \"stats\"        \"graphics\"     \"grDevices\"   \n",
       "[16] \"utils\"        \"datasets\"     \"methods\"      \"base\"        \n"
      ]
     },
     "metadata": {},
     "output_type": "display_data"
    }
   ],
   "source": [
    "lapply(c(\"dplyr\",\"Seurat\",\"ggplot2\",\"anndata\",\"readxl\",\n",
    "         \"RColorBrewer\",\"reticulate\",\"sceasy\",\"Polychrome\", \"stringr\"),library, character.only = T)\n",
    "library(glue)"
   ]
  },
  {
   "cell_type": "code",
   "execution_count": 59,
   "id": "8ffbbefa-4fc9-4d3b-a34c-fd46a487c27e",
   "metadata": {},
   "outputs": [],
   "source": [
    "library(Rsubread)\n",
    "library(tximport)\n",
    "library(DESeq2)\n",
    "library(data.table)\n",
    "library(edgeR)\n",
    "library(tidyr)\n",
    "library(tibble)"
   ]
  },
  {
   "cell_type": "code",
   "execution_count": 18,
   "id": "68ffbb20-a90e-4cb8-ae8e-ac99793de359",
   "metadata": {},
   "outputs": [],
   "source": [
    "data_dir = \"/xchip/beroukhimlab/srangasw/POMT/data/bulk/counts\"\n",
    "samples = list.files(data_dir)"
   ]
  },
  {
   "cell_type": "code",
   "execution_count": 4,
   "id": "0597cbfb-b1f2-44c7-b819-b8be7fbc9dd0",
   "metadata": {},
   "outputs": [
    {
     "name": "stdout",
     "output_type": "stream",
     "text": [
      "[1] \"X20241230_pomt1_neg_1_JR12700_S145\" \"genes\"                             \n",
      "[1] \"X20241230_pomt1_neg_2_JR12700_S147\" \"genes\"                             \n",
      "[1] \"X20241230_pomt1_neg_3_JR12700_S149\" \"genes\"                             \n",
      "[1] \"X20241230_pomt1_pos_1_JR12700_S146\" \"genes\"                             \n",
      "[1] \"X20241230_pomt1_pos_2_JR12700_S148\" \"genes\"                             \n",
      "[1] \"X20241230_pomt1_pos_3_JR12700_S150\" \"genes\"                             \n",
      "[1] \"X20241230_rosa26_neg_1_JR12700_S139\" \"genes\"                              \n",
      "[1] \"X20241230_rosa26_neg_2_JR12700_S141\" \"genes\"                              \n",
      "[1] \"X20241230_rosa26_neg_3_JR12700_S143\" \"genes\"                              \n",
      "[1] \"X20241230_rosa26_pos_1_JR12700_S140\" \"genes\"                              \n",
      "[1] \"X20241230_rosa26_pos_2_JR12700_S142\" \"genes\"                              \n",
      "[1] \"X20241230_rosa26_pos_3_JR12700_S144\" \"genes\"                              \n"
     ]
    }
   ],
   "source": [
    "dt_list <- list()\n",
    "for (i in 1:length(samples)){\n",
    "    sample_dir = paste(data_dir, samples[[i]], sep = \"/\" )\n",
    "    txt_files <- list.files(sample_dir, pattern = \"\\\\.txt$\")\n",
    "    file_path = paste(sample_dir, txt_files, sep = \"/\")\n",
    "    dt <- read.table(file_path)\n",
    "    print(colnames(dt))\n",
    "    var_name <- glue(\"dt_{i}\")\n",
    "    assign(var_name, dt)\n",
    "    dt_list[[i]] <- dt\n",
    "}"
   ]
  },
  {
   "cell_type": "code",
   "execution_count": 5,
   "id": "f28c96f1-9fe9-43eb-b175-8c9369bef367",
   "metadata": {},
   "outputs": [
    {
     "data": {
      "text/html": [
       "<table class=\"dataframe\">\n",
       "<caption>A data.frame: 6 x 13</caption>\n",
       "<thead>\n",
       "\t<tr><th></th><th scope=col>genes</th><th scope=col>X20241230_pomt1_neg_1_JR12700_S145</th><th scope=col>X20241230_pomt1_neg_2_JR12700_S147</th><th scope=col>X20241230_pomt1_neg_3_JR12700_S149</th><th scope=col>X20241230_pomt1_pos_1_JR12700_S146</th><th scope=col>X20241230_pomt1_pos_2_JR12700_S148</th><th scope=col>X20241230_pomt1_pos_3_JR12700_S150</th><th scope=col>X20241230_rosa26_neg_1_JR12700_S139</th><th scope=col>X20241230_rosa26_neg_2_JR12700_S141</th><th scope=col>X20241230_rosa26_neg_3_JR12700_S143</th><th scope=col>X20241230_rosa26_pos_1_JR12700_S140</th><th scope=col>X20241230_rosa26_pos_2_JR12700_S142</th><th scope=col>X20241230_rosa26_pos_3_JR12700_S144</th></tr>\n",
       "\t<tr><th></th><th scope=col>&lt;chr&gt;</th><th scope=col>&lt;int&gt;</th><th scope=col>&lt;int&gt;</th><th scope=col>&lt;int&gt;</th><th scope=col>&lt;int&gt;</th><th scope=col>&lt;int&gt;</th><th scope=col>&lt;int&gt;</th><th scope=col>&lt;int&gt;</th><th scope=col>&lt;int&gt;</th><th scope=col>&lt;int&gt;</th><th scope=col>&lt;int&gt;</th><th scope=col>&lt;int&gt;</th><th scope=col>&lt;int&gt;</th></tr>\n",
       "</thead>\n",
       "<tbody>\n",
       "\t<tr><th scope=row>1</th><td>0610005C13Rik</td><td>  11</td><td>  12</td><td>  10</td><td>   9</td><td>  20</td><td>  15</td><td>  10</td><td>   9</td><td>   8</td><td>   6</td><td>  11</td><td>  14</td></tr>\n",
       "\t<tr><th scope=row>2</th><td>0610006L08Rik</td><td>   0</td><td>   0</td><td>   0</td><td>   0</td><td>   0</td><td>   0</td><td>   0</td><td>   0</td><td>   1</td><td>   0</td><td>   0</td><td>   0</td></tr>\n",
       "\t<tr><th scope=row>3</th><td>0610009B22Rik</td><td> 738</td><td> 572</td><td> 605</td><td> 713</td><td> 588</td><td> 660</td><td> 757</td><td> 581</td><td> 560</td><td> 730</td><td> 663</td><td> 783</td></tr>\n",
       "\t<tr><th scope=row>4</th><td>0610009E02Rik</td><td>   8</td><td>  12</td><td>  14</td><td>  23</td><td>  22</td><td>  19</td><td>  18</td><td>  10</td><td>  16</td><td>  11</td><td>  30</td><td>  18</td></tr>\n",
       "\t<tr><th scope=row>5</th><td>0610009L18Rik</td><td>  24</td><td>  13</td><td>  22</td><td>  39</td><td>  29</td><td>  17</td><td>  26</td><td>  30</td><td>  55</td><td>  54</td><td>  43</td><td>  52</td></tr>\n",
       "\t<tr><th scope=row>6</th><td>0610010F05Rik</td><td>3265</td><td>2507</td><td>2386</td><td>2942</td><td>2152</td><td>2379</td><td>3497</td><td>2713</td><td>2156</td><td>2764</td><td>2079</td><td>2929</td></tr>\n",
       "</tbody>\n",
       "</table>\n"
      ],
      "text/latex": [
       "A data.frame: 6 x 13\n",
       "\\begin{tabular}{r|lllllllllllll}\n",
       "  & genes & X20241230\\_pomt1\\_neg\\_1\\_JR12700\\_S145 & X20241230\\_pomt1\\_neg\\_2\\_JR12700\\_S147 & X20241230\\_pomt1\\_neg\\_3\\_JR12700\\_S149 & X20241230\\_pomt1\\_pos\\_1\\_JR12700\\_S146 & X20241230\\_pomt1\\_pos\\_2\\_JR12700\\_S148 & X20241230\\_pomt1\\_pos\\_3\\_JR12700\\_S150 & X20241230\\_rosa26\\_neg\\_1\\_JR12700\\_S139 & X20241230\\_rosa26\\_neg\\_2\\_JR12700\\_S141 & X20241230\\_rosa26\\_neg\\_3\\_JR12700\\_S143 & X20241230\\_rosa26\\_pos\\_1\\_JR12700\\_S140 & X20241230\\_rosa26\\_pos\\_2\\_JR12700\\_S142 & X20241230\\_rosa26\\_pos\\_3\\_JR12700\\_S144\\\\\n",
       "  & <chr> & <int> & <int> & <int> & <int> & <int> & <int> & <int> & <int> & <int> & <int> & <int> & <int>\\\\\n",
       "\\hline\n",
       "\t1 & 0610005C13Rik &   11 &   12 &   10 &    9 &   20 &   15 &   10 &    9 &    8 &    6 &   11 &   14\\\\\n",
       "\t2 & 0610006L08Rik &    0 &    0 &    0 &    0 &    0 &    0 &    0 &    0 &    1 &    0 &    0 &    0\\\\\n",
       "\t3 & 0610009B22Rik &  738 &  572 &  605 &  713 &  588 &  660 &  757 &  581 &  560 &  730 &  663 &  783\\\\\n",
       "\t4 & 0610009E02Rik &    8 &   12 &   14 &   23 &   22 &   19 &   18 &   10 &   16 &   11 &   30 &   18\\\\\n",
       "\t5 & 0610009L18Rik &   24 &   13 &   22 &   39 &   29 &   17 &   26 &   30 &   55 &   54 &   43 &   52\\\\\n",
       "\t6 & 0610010F05Rik & 3265 & 2507 & 2386 & 2942 & 2152 & 2379 & 3497 & 2713 & 2156 & 2764 & 2079 & 2929\\\\\n",
       "\\end{tabular}\n"
      ],
      "text/markdown": [
       "\n",
       "A data.frame: 6 x 13\n",
       "\n",
       "| <!--/--> | genes &lt;chr&gt; | X20241230_pomt1_neg_1_JR12700_S145 &lt;int&gt; | X20241230_pomt1_neg_2_JR12700_S147 &lt;int&gt; | X20241230_pomt1_neg_3_JR12700_S149 &lt;int&gt; | X20241230_pomt1_pos_1_JR12700_S146 &lt;int&gt; | X20241230_pomt1_pos_2_JR12700_S148 &lt;int&gt; | X20241230_pomt1_pos_3_JR12700_S150 &lt;int&gt; | X20241230_rosa26_neg_1_JR12700_S139 &lt;int&gt; | X20241230_rosa26_neg_2_JR12700_S141 &lt;int&gt; | X20241230_rosa26_neg_3_JR12700_S143 &lt;int&gt; | X20241230_rosa26_pos_1_JR12700_S140 &lt;int&gt; | X20241230_rosa26_pos_2_JR12700_S142 &lt;int&gt; | X20241230_rosa26_pos_3_JR12700_S144 &lt;int&gt; |\n",
       "|---|---|---|---|---|---|---|---|---|---|---|---|---|---|\n",
       "| 1 | 0610005C13Rik |   11 |   12 |   10 |    9 |   20 |   15 |   10 |    9 |    8 |    6 |   11 |   14 |\n",
       "| 2 | 0610006L08Rik |    0 |    0 |    0 |    0 |    0 |    0 |    0 |    0 |    1 |    0 |    0 |    0 |\n",
       "| 3 | 0610009B22Rik |  738 |  572 |  605 |  713 |  588 |  660 |  757 |  581 |  560 |  730 |  663 |  783 |\n",
       "| 4 | 0610009E02Rik |    8 |   12 |   14 |   23 |   22 |   19 |   18 |   10 |   16 |   11 |   30 |   18 |\n",
       "| 5 | 0610009L18Rik |   24 |   13 |   22 |   39 |   29 |   17 |   26 |   30 |   55 |   54 |   43 |   52 |\n",
       "| 6 | 0610010F05Rik | 3265 | 2507 | 2386 | 2942 | 2152 | 2379 | 3497 | 2713 | 2156 | 2764 | 2079 | 2929 |\n",
       "\n"
      ],
      "text/plain": [
       "  genes         X20241230_pomt1_neg_1_JR12700_S145\n",
       "1 0610005C13Rik   11                              \n",
       "2 0610006L08Rik    0                              \n",
       "3 0610009B22Rik  738                              \n",
       "4 0610009E02Rik    8                              \n",
       "5 0610009L18Rik   24                              \n",
       "6 0610010F05Rik 3265                              \n",
       "  X20241230_pomt1_neg_2_JR12700_S147 X20241230_pomt1_neg_3_JR12700_S149\n",
       "1   12                                 10                              \n",
       "2    0                                  0                              \n",
       "3  572                                605                              \n",
       "4   12                                 14                              \n",
       "5   13                                 22                              \n",
       "6 2507                               2386                              \n",
       "  X20241230_pomt1_pos_1_JR12700_S146 X20241230_pomt1_pos_2_JR12700_S148\n",
       "1    9                                 20                              \n",
       "2    0                                  0                              \n",
       "3  713                                588                              \n",
       "4   23                                 22                              \n",
       "5   39                                 29                              \n",
       "6 2942                               2152                              \n",
       "  X20241230_pomt1_pos_3_JR12700_S150 X20241230_rosa26_neg_1_JR12700_S139\n",
       "1   15                                 10                               \n",
       "2    0                                  0                               \n",
       "3  660                                757                               \n",
       "4   19                                 18                               \n",
       "5   17                                 26                               \n",
       "6 2379                               3497                               \n",
       "  X20241230_rosa26_neg_2_JR12700_S141 X20241230_rosa26_neg_3_JR12700_S143\n",
       "1    9                                   8                               \n",
       "2    0                                   1                               \n",
       "3  581                                 560                               \n",
       "4   10                                  16                               \n",
       "5   30                                  55                               \n",
       "6 2713                                2156                               \n",
       "  X20241230_rosa26_pos_1_JR12700_S140 X20241230_rosa26_pos_2_JR12700_S142\n",
       "1    6                                  11                               \n",
       "2    0                                   0                               \n",
       "3  730                                 663                               \n",
       "4   11                                  30                               \n",
       "5   54                                  43                               \n",
       "6 2764                                2079                               \n",
       "  X20241230_rosa26_pos_3_JR12700_S144\n",
       "1   14                               \n",
       "2    0                               \n",
       "3  783                               \n",
       "4   18                               \n",
       "5   52                               \n",
       "6 2929                               "
      ]
     },
     "metadata": {},
     "output_type": "display_data"
    }
   ],
   "source": [
    "library(data.table)\n",
    "merged_dt <- dt_1\n",
    "for  (i in 2:length(samples)){\n",
    "    merged_dt <- merge(merged_dt, dt_list[[i]], by = \"genes\", all = TRUE)}\n",
    "head(merged_dt)"
   ]
  },
  {
   "cell_type": "code",
   "execution_count": 6,
   "id": "268eb9aa-c3b1-4f99-8984-0c7d663b7728",
   "metadata": {},
   "outputs": [
    {
     "data": {
      "text/html": [
       "<table class=\"dataframe\">\n",
       "<caption>A data.frame: 6 x 12</caption>\n",
       "<thead>\n",
       "\t<tr><th></th><th scope=col>X20241230_pomt1_neg_1_JR12700_S145</th><th scope=col>X20241230_pomt1_neg_2_JR12700_S147</th><th scope=col>X20241230_pomt1_neg_3_JR12700_S149</th><th scope=col>X20241230_pomt1_pos_1_JR12700_S146</th><th scope=col>X20241230_pomt1_pos_2_JR12700_S148</th><th scope=col>X20241230_pomt1_pos_3_JR12700_S150</th><th scope=col>X20241230_rosa26_neg_1_JR12700_S139</th><th scope=col>X20241230_rosa26_neg_2_JR12700_S141</th><th scope=col>X20241230_rosa26_neg_3_JR12700_S143</th><th scope=col>X20241230_rosa26_pos_1_JR12700_S140</th><th scope=col>X20241230_rosa26_pos_2_JR12700_S142</th><th scope=col>X20241230_rosa26_pos_3_JR12700_S144</th></tr>\n",
       "\t<tr><th></th><th scope=col>&lt;int&gt;</th><th scope=col>&lt;int&gt;</th><th scope=col>&lt;int&gt;</th><th scope=col>&lt;int&gt;</th><th scope=col>&lt;int&gt;</th><th scope=col>&lt;int&gt;</th><th scope=col>&lt;int&gt;</th><th scope=col>&lt;int&gt;</th><th scope=col>&lt;int&gt;</th><th scope=col>&lt;int&gt;</th><th scope=col>&lt;int&gt;</th><th scope=col>&lt;int&gt;</th></tr>\n",
       "</thead>\n",
       "<tbody>\n",
       "\t<tr><th scope=row>0610005C13Rik</th><td>  11</td><td>  12</td><td>  10</td><td>   9</td><td>  20</td><td>  15</td><td>  10</td><td>   9</td><td>   8</td><td>   6</td><td>  11</td><td>  14</td></tr>\n",
       "\t<tr><th scope=row>0610006L08Rik</th><td>   0</td><td>   0</td><td>   0</td><td>   0</td><td>   0</td><td>   0</td><td>   0</td><td>   0</td><td>   1</td><td>   0</td><td>   0</td><td>   0</td></tr>\n",
       "\t<tr><th scope=row>0610009B22Rik</th><td> 738</td><td> 572</td><td> 605</td><td> 713</td><td> 588</td><td> 660</td><td> 757</td><td> 581</td><td> 560</td><td> 730</td><td> 663</td><td> 783</td></tr>\n",
       "\t<tr><th scope=row>0610009E02Rik</th><td>   8</td><td>  12</td><td>  14</td><td>  23</td><td>  22</td><td>  19</td><td>  18</td><td>  10</td><td>  16</td><td>  11</td><td>  30</td><td>  18</td></tr>\n",
       "\t<tr><th scope=row>0610009L18Rik</th><td>  24</td><td>  13</td><td>  22</td><td>  39</td><td>  29</td><td>  17</td><td>  26</td><td>  30</td><td>  55</td><td>  54</td><td>  43</td><td>  52</td></tr>\n",
       "\t<tr><th scope=row>0610010F05Rik</th><td>3265</td><td>2507</td><td>2386</td><td>2942</td><td>2152</td><td>2379</td><td>3497</td><td>2713</td><td>2156</td><td>2764</td><td>2079</td><td>2929</td></tr>\n",
       "</tbody>\n",
       "</table>\n"
      ],
      "text/latex": [
       "A data.frame: 6 x 12\n",
       "\\begin{tabular}{r|llllllllllll}\n",
       "  & X20241230\\_pomt1\\_neg\\_1\\_JR12700\\_S145 & X20241230\\_pomt1\\_neg\\_2\\_JR12700\\_S147 & X20241230\\_pomt1\\_neg\\_3\\_JR12700\\_S149 & X20241230\\_pomt1\\_pos\\_1\\_JR12700\\_S146 & X20241230\\_pomt1\\_pos\\_2\\_JR12700\\_S148 & X20241230\\_pomt1\\_pos\\_3\\_JR12700\\_S150 & X20241230\\_rosa26\\_neg\\_1\\_JR12700\\_S139 & X20241230\\_rosa26\\_neg\\_2\\_JR12700\\_S141 & X20241230\\_rosa26\\_neg\\_3\\_JR12700\\_S143 & X20241230\\_rosa26\\_pos\\_1\\_JR12700\\_S140 & X20241230\\_rosa26\\_pos\\_2\\_JR12700\\_S142 & X20241230\\_rosa26\\_pos\\_3\\_JR12700\\_S144\\\\\n",
       "  & <int> & <int> & <int> & <int> & <int> & <int> & <int> & <int> & <int> & <int> & <int> & <int>\\\\\n",
       "\\hline\n",
       "\t0610005C13Rik &   11 &   12 &   10 &    9 &   20 &   15 &   10 &    9 &    8 &    6 &   11 &   14\\\\\n",
       "\t0610006L08Rik &    0 &    0 &    0 &    0 &    0 &    0 &    0 &    0 &    1 &    0 &    0 &    0\\\\\n",
       "\t0610009B22Rik &  738 &  572 &  605 &  713 &  588 &  660 &  757 &  581 &  560 &  730 &  663 &  783\\\\\n",
       "\t0610009E02Rik &    8 &   12 &   14 &   23 &   22 &   19 &   18 &   10 &   16 &   11 &   30 &   18\\\\\n",
       "\t0610009L18Rik &   24 &   13 &   22 &   39 &   29 &   17 &   26 &   30 &   55 &   54 &   43 &   52\\\\\n",
       "\t0610010F05Rik & 3265 & 2507 & 2386 & 2942 & 2152 & 2379 & 3497 & 2713 & 2156 & 2764 & 2079 & 2929\\\\\n",
       "\\end{tabular}\n"
      ],
      "text/markdown": [
       "\n",
       "A data.frame: 6 x 12\n",
       "\n",
       "| <!--/--> | X20241230_pomt1_neg_1_JR12700_S145 &lt;int&gt; | X20241230_pomt1_neg_2_JR12700_S147 &lt;int&gt; | X20241230_pomt1_neg_3_JR12700_S149 &lt;int&gt; | X20241230_pomt1_pos_1_JR12700_S146 &lt;int&gt; | X20241230_pomt1_pos_2_JR12700_S148 &lt;int&gt; | X20241230_pomt1_pos_3_JR12700_S150 &lt;int&gt; | X20241230_rosa26_neg_1_JR12700_S139 &lt;int&gt; | X20241230_rosa26_neg_2_JR12700_S141 &lt;int&gt; | X20241230_rosa26_neg_3_JR12700_S143 &lt;int&gt; | X20241230_rosa26_pos_1_JR12700_S140 &lt;int&gt; | X20241230_rosa26_pos_2_JR12700_S142 &lt;int&gt; | X20241230_rosa26_pos_3_JR12700_S144 &lt;int&gt; |\n",
       "|---|---|---|---|---|---|---|---|---|---|---|---|---|\n",
       "| 0610005C13Rik |   11 |   12 |   10 |    9 |   20 |   15 |   10 |    9 |    8 |    6 |   11 |   14 |\n",
       "| 0610006L08Rik |    0 |    0 |    0 |    0 |    0 |    0 |    0 |    0 |    1 |    0 |    0 |    0 |\n",
       "| 0610009B22Rik |  738 |  572 |  605 |  713 |  588 |  660 |  757 |  581 |  560 |  730 |  663 |  783 |\n",
       "| 0610009E02Rik |    8 |   12 |   14 |   23 |   22 |   19 |   18 |   10 |   16 |   11 |   30 |   18 |\n",
       "| 0610009L18Rik |   24 |   13 |   22 |   39 |   29 |   17 |   26 |   30 |   55 |   54 |   43 |   52 |\n",
       "| 0610010F05Rik | 3265 | 2507 | 2386 | 2942 | 2152 | 2379 | 3497 | 2713 | 2156 | 2764 | 2079 | 2929 |\n",
       "\n"
      ],
      "text/plain": [
       "              X20241230_pomt1_neg_1_JR12700_S145\n",
       "0610005C13Rik   11                              \n",
       "0610006L08Rik    0                              \n",
       "0610009B22Rik  738                              \n",
       "0610009E02Rik    8                              \n",
       "0610009L18Rik   24                              \n",
       "0610010F05Rik 3265                              \n",
       "              X20241230_pomt1_neg_2_JR12700_S147\n",
       "0610005C13Rik   12                              \n",
       "0610006L08Rik    0                              \n",
       "0610009B22Rik  572                              \n",
       "0610009E02Rik   12                              \n",
       "0610009L18Rik   13                              \n",
       "0610010F05Rik 2507                              \n",
       "              X20241230_pomt1_neg_3_JR12700_S149\n",
       "0610005C13Rik   10                              \n",
       "0610006L08Rik    0                              \n",
       "0610009B22Rik  605                              \n",
       "0610009E02Rik   14                              \n",
       "0610009L18Rik   22                              \n",
       "0610010F05Rik 2386                              \n",
       "              X20241230_pomt1_pos_1_JR12700_S146\n",
       "0610005C13Rik    9                              \n",
       "0610006L08Rik    0                              \n",
       "0610009B22Rik  713                              \n",
       "0610009E02Rik   23                              \n",
       "0610009L18Rik   39                              \n",
       "0610010F05Rik 2942                              \n",
       "              X20241230_pomt1_pos_2_JR12700_S148\n",
       "0610005C13Rik   20                              \n",
       "0610006L08Rik    0                              \n",
       "0610009B22Rik  588                              \n",
       "0610009E02Rik   22                              \n",
       "0610009L18Rik   29                              \n",
       "0610010F05Rik 2152                              \n",
       "              X20241230_pomt1_pos_3_JR12700_S150\n",
       "0610005C13Rik   15                              \n",
       "0610006L08Rik    0                              \n",
       "0610009B22Rik  660                              \n",
       "0610009E02Rik   19                              \n",
       "0610009L18Rik   17                              \n",
       "0610010F05Rik 2379                              \n",
       "              X20241230_rosa26_neg_1_JR12700_S139\n",
       "0610005C13Rik   10                               \n",
       "0610006L08Rik    0                               \n",
       "0610009B22Rik  757                               \n",
       "0610009E02Rik   18                               \n",
       "0610009L18Rik   26                               \n",
       "0610010F05Rik 3497                               \n",
       "              X20241230_rosa26_neg_2_JR12700_S141\n",
       "0610005C13Rik    9                               \n",
       "0610006L08Rik    0                               \n",
       "0610009B22Rik  581                               \n",
       "0610009E02Rik   10                               \n",
       "0610009L18Rik   30                               \n",
       "0610010F05Rik 2713                               \n",
       "              X20241230_rosa26_neg_3_JR12700_S143\n",
       "0610005C13Rik    8                               \n",
       "0610006L08Rik    1                               \n",
       "0610009B22Rik  560                               \n",
       "0610009E02Rik   16                               \n",
       "0610009L18Rik   55                               \n",
       "0610010F05Rik 2156                               \n",
       "              X20241230_rosa26_pos_1_JR12700_S140\n",
       "0610005C13Rik    6                               \n",
       "0610006L08Rik    0                               \n",
       "0610009B22Rik  730                               \n",
       "0610009E02Rik   11                               \n",
       "0610009L18Rik   54                               \n",
       "0610010F05Rik 2764                               \n",
       "              X20241230_rosa26_pos_2_JR12700_S142\n",
       "0610005C13Rik   11                               \n",
       "0610006L08Rik    0                               \n",
       "0610009B22Rik  663                               \n",
       "0610009E02Rik   30                               \n",
       "0610009L18Rik   43                               \n",
       "0610010F05Rik 2079                               \n",
       "              X20241230_rosa26_pos_3_JR12700_S144\n",
       "0610005C13Rik   14                               \n",
       "0610006L08Rik    0                               \n",
       "0610009B22Rik  783                               \n",
       "0610009E02Rik   18                               \n",
       "0610009L18Rik   52                               \n",
       "0610010F05Rik 2929                               "
      ]
     },
     "metadata": {},
     "output_type": "display_data"
    }
   ],
   "source": [
    "rownames(merged_dt) <- merged_dt$genes\n",
    "merged_dt$genes <- NULL\n",
    "head(merged_dt)"
   ]
  },
  {
   "cell_type": "code",
   "execution_count": 12,
   "id": "522dc68d-d644-4c32-9af8-cf8e920f912c",
   "metadata": {},
   "outputs": [],
   "source": [
    "gfp_counts <- merged_dt[\"EGFP\", ]\n",
    "write.csv(merged_dt, \"/xchip/beroukhimlab/srangasw/POMT/data/bulk/bulk_RNA_merged.csv\")\n",
    "write.csv(gfp_counts, \"/xchip/beroukhimlab/srangasw/POMT/data/bulk/bulk_RNA_gfp.csv\")"
   ]
  },
  {
   "cell_type": "markdown",
   "id": "45d5410b-2d65-4bd9-a589-9a07c3c5ab5d",
   "metadata": {},
   "source": [
    "## Preprocessing and QC"
   ]
  },
  {
   "cell_type": "code",
   "execution_count": 63,
   "id": "2d4f3dcd-5326-4d82-95a7-2bc2579d0144",
   "metadata": {},
   "outputs": [],
   "source": [
    "dt <- read.csv(\"/xchip/beroukhimlab/srangasw/POMT/data/bulk/bulk_RNA_merged.csv\")"
   ]
  },
  {
   "cell_type": "code",
   "execution_count": 64,
   "id": "d893deef-0fba-4a07-9e50-0e4dc2b0fe53",
   "metadata": {},
   "outputs": [],
   "source": [
    "setnames(dt, 'X', 'gene_name')"
   ]
  },
  {
   "cell_type": "code",
   "execution_count": 65,
   "id": "8728ef36-56fd-462d-9277-ac924612beb6",
   "metadata": {},
   "outputs": [
    {
     "data": {
      "text/html": [
       "<table class=\"dataframe\">\n",
       "<caption>A data.frame: 6 x 13</caption>\n",
       "<thead>\n",
       "\t<tr><th></th><th scope=col>gene_name</th><th scope=col>pomt1_neg_1_JR12700</th><th scope=col>pomt1_neg_2_JR12700</th><th scope=col>pomt1_neg_3_JR12700</th><th scope=col>pomt1_pos_1_JR12700</th><th scope=col>pomt1_pos_2_JR12700</th><th scope=col>pomt1_pos_3_JR12700</th><th scope=col>rosa26_neg_1_JR12700</th><th scope=col>rosa26_neg_2_JR12700</th><th scope=col>rosa26_neg_3_JR12700</th><th scope=col>rosa26_pos_1_JR12700</th><th scope=col>rosa26_pos_2_JR12700</th><th scope=col>rosa26_pos_3_JR12700</th></tr>\n",
       "\t<tr><th></th><th scope=col>&lt;chr&gt;</th><th scope=col>&lt;int&gt;</th><th scope=col>&lt;int&gt;</th><th scope=col>&lt;int&gt;</th><th scope=col>&lt;int&gt;</th><th scope=col>&lt;int&gt;</th><th scope=col>&lt;int&gt;</th><th scope=col>&lt;int&gt;</th><th scope=col>&lt;int&gt;</th><th scope=col>&lt;int&gt;</th><th scope=col>&lt;int&gt;</th><th scope=col>&lt;int&gt;</th><th scope=col>&lt;int&gt;</th></tr>\n",
       "</thead>\n",
       "<tbody>\n",
       "\t<tr><th scope=row>1</th><td>0610005C13Rik</td><td>  11</td><td>  12</td><td>  10</td><td>   9</td><td>  20</td><td>  15</td><td>  10</td><td>   9</td><td>   8</td><td>   6</td><td>  11</td><td>  14</td></tr>\n",
       "\t<tr><th scope=row>2</th><td>0610006L08Rik</td><td>   0</td><td>   0</td><td>   0</td><td>   0</td><td>   0</td><td>   0</td><td>   0</td><td>   0</td><td>   1</td><td>   0</td><td>   0</td><td>   0</td></tr>\n",
       "\t<tr><th scope=row>3</th><td>0610009B22Rik</td><td> 738</td><td> 572</td><td> 605</td><td> 713</td><td> 588</td><td> 660</td><td> 757</td><td> 581</td><td> 560</td><td> 730</td><td> 663</td><td> 783</td></tr>\n",
       "\t<tr><th scope=row>4</th><td>0610009E02Rik</td><td>   8</td><td>  12</td><td>  14</td><td>  23</td><td>  22</td><td>  19</td><td>  18</td><td>  10</td><td>  16</td><td>  11</td><td>  30</td><td>  18</td></tr>\n",
       "\t<tr><th scope=row>5</th><td>0610009L18Rik</td><td>  24</td><td>  13</td><td>  22</td><td>  39</td><td>  29</td><td>  17</td><td>  26</td><td>  30</td><td>  55</td><td>  54</td><td>  43</td><td>  52</td></tr>\n",
       "\t<tr><th scope=row>6</th><td>0610010F05Rik</td><td>3265</td><td>2507</td><td>2386</td><td>2942</td><td>2152</td><td>2379</td><td>3497</td><td>2713</td><td>2156</td><td>2764</td><td>2079</td><td>2929</td></tr>\n",
       "</tbody>\n",
       "</table>\n"
      ],
      "text/latex": [
       "A data.frame: 6 x 13\n",
       "\\begin{tabular}{r|lllllllllllll}\n",
       "  & gene\\_name & pomt1\\_neg\\_1\\_JR12700 & pomt1\\_neg\\_2\\_JR12700 & pomt1\\_neg\\_3\\_JR12700 & pomt1\\_pos\\_1\\_JR12700 & pomt1\\_pos\\_2\\_JR12700 & pomt1\\_pos\\_3\\_JR12700 & rosa26\\_neg\\_1\\_JR12700 & rosa26\\_neg\\_2\\_JR12700 & rosa26\\_neg\\_3\\_JR12700 & rosa26\\_pos\\_1\\_JR12700 & rosa26\\_pos\\_2\\_JR12700 & rosa26\\_pos\\_3\\_JR12700\\\\\n",
       "  & <chr> & <int> & <int> & <int> & <int> & <int> & <int> & <int> & <int> & <int> & <int> & <int> & <int>\\\\\n",
       "\\hline\n",
       "\t1 & 0610005C13Rik &   11 &   12 &   10 &    9 &   20 &   15 &   10 &    9 &    8 &    6 &   11 &   14\\\\\n",
       "\t2 & 0610006L08Rik &    0 &    0 &    0 &    0 &    0 &    0 &    0 &    0 &    1 &    0 &    0 &    0\\\\\n",
       "\t3 & 0610009B22Rik &  738 &  572 &  605 &  713 &  588 &  660 &  757 &  581 &  560 &  730 &  663 &  783\\\\\n",
       "\t4 & 0610009E02Rik &    8 &   12 &   14 &   23 &   22 &   19 &   18 &   10 &   16 &   11 &   30 &   18\\\\\n",
       "\t5 & 0610009L18Rik &   24 &   13 &   22 &   39 &   29 &   17 &   26 &   30 &   55 &   54 &   43 &   52\\\\\n",
       "\t6 & 0610010F05Rik & 3265 & 2507 & 2386 & 2942 & 2152 & 2379 & 3497 & 2713 & 2156 & 2764 & 2079 & 2929\\\\\n",
       "\\end{tabular}\n"
      ],
      "text/markdown": [
       "\n",
       "A data.frame: 6 x 13\n",
       "\n",
       "| <!--/--> | gene_name &lt;chr&gt; | pomt1_neg_1_JR12700 &lt;int&gt; | pomt1_neg_2_JR12700 &lt;int&gt; | pomt1_neg_3_JR12700 &lt;int&gt; | pomt1_pos_1_JR12700 &lt;int&gt; | pomt1_pos_2_JR12700 &lt;int&gt; | pomt1_pos_3_JR12700 &lt;int&gt; | rosa26_neg_1_JR12700 &lt;int&gt; | rosa26_neg_2_JR12700 &lt;int&gt; | rosa26_neg_3_JR12700 &lt;int&gt; | rosa26_pos_1_JR12700 &lt;int&gt; | rosa26_pos_2_JR12700 &lt;int&gt; | rosa26_pos_3_JR12700 &lt;int&gt; |\n",
       "|---|---|---|---|---|---|---|---|---|---|---|---|---|---|\n",
       "| 1 | 0610005C13Rik |   11 |   12 |   10 |    9 |   20 |   15 |   10 |    9 |    8 |    6 |   11 |   14 |\n",
       "| 2 | 0610006L08Rik |    0 |    0 |    0 |    0 |    0 |    0 |    0 |    0 |    1 |    0 |    0 |    0 |\n",
       "| 3 | 0610009B22Rik |  738 |  572 |  605 |  713 |  588 |  660 |  757 |  581 |  560 |  730 |  663 |  783 |\n",
       "| 4 | 0610009E02Rik |    8 |   12 |   14 |   23 |   22 |   19 |   18 |   10 |   16 |   11 |   30 |   18 |\n",
       "| 5 | 0610009L18Rik |   24 |   13 |   22 |   39 |   29 |   17 |   26 |   30 |   55 |   54 |   43 |   52 |\n",
       "| 6 | 0610010F05Rik | 3265 | 2507 | 2386 | 2942 | 2152 | 2379 | 3497 | 2713 | 2156 | 2764 | 2079 | 2929 |\n",
       "\n"
      ],
      "text/plain": [
       "  gene_name     pomt1_neg_1_JR12700 pomt1_neg_2_JR12700 pomt1_neg_3_JR12700\n",
       "1 0610005C13Rik   11                  12                  10               \n",
       "2 0610006L08Rik    0                   0                   0               \n",
       "3 0610009B22Rik  738                 572                 605               \n",
       "4 0610009E02Rik    8                  12                  14               \n",
       "5 0610009L18Rik   24                  13                  22               \n",
       "6 0610010F05Rik 3265                2507                2386               \n",
       "  pomt1_pos_1_JR12700 pomt1_pos_2_JR12700 pomt1_pos_3_JR12700\n",
       "1    9                  20                  15               \n",
       "2    0                   0                   0               \n",
       "3  713                 588                 660               \n",
       "4   23                  22                  19               \n",
       "5   39                  29                  17               \n",
       "6 2942                2152                2379               \n",
       "  rosa26_neg_1_JR12700 rosa26_neg_2_JR12700 rosa26_neg_3_JR12700\n",
       "1   10                    9                    8                \n",
       "2    0                    0                    1                \n",
       "3  757                  581                  560                \n",
       "4   18                   10                   16                \n",
       "5   26                   30                   55                \n",
       "6 3497                 2713                 2156                \n",
       "  rosa26_pos_1_JR12700 rosa26_pos_2_JR12700 rosa26_pos_3_JR12700\n",
       "1    6                   11                   14                \n",
       "2    0                    0                    0                \n",
       "3  730                  663                  783                \n",
       "4   11                   30                   18                \n",
       "5   54                   43                   52                \n",
       "6 2764                 2079                 2929                "
      ]
     },
     "metadata": {},
     "output_type": "display_data"
    }
   ],
   "source": [
    "colnames(dt) <- sub(\"^X\", \"\", colnames(dt))\n",
    "colnames(dt) <- sub(\"^[^_]*_([^_]*_.*)_[^_]*$\", \"\\\\1\", colnames(dt))\n",
    "head(dt)"
   ]
  },
  {
   "cell_type": "code",
   "execution_count": 68,
   "id": "11c4e81b-a92c-4c7e-b497-e3069c8ee464",
   "metadata": {},
   "outputs": [
    {
     "data": {
      "text/html": [
       "<table class=\"dataframe\">\n",
       "<caption>A data.frame: 6 x 13</caption>\n",
       "<thead>\n",
       "\t<tr><th></th><th scope=col>gene_name</th><th scope=col>pomt1Neg_1</th><th scope=col>pomt1Neg_2</th><th scope=col>pomt1Neg_3</th><th scope=col>pomt1Pos_1</th><th scope=col>pomt1Pos_2</th><th scope=col>pomt1Pos_3</th><th scope=col>rosa26Neg_1</th><th scope=col>rosa26Neg_2</th><th scope=col>rosa26Neg_3</th><th scope=col>rosa26Pos_1</th><th scope=col>rosa26Pos_2</th><th scope=col>rosa26Pos_3</th></tr>\n",
       "\t<tr><th></th><th scope=col>&lt;chr&gt;</th><th scope=col>&lt;int&gt;</th><th scope=col>&lt;int&gt;</th><th scope=col>&lt;int&gt;</th><th scope=col>&lt;int&gt;</th><th scope=col>&lt;int&gt;</th><th scope=col>&lt;int&gt;</th><th scope=col>&lt;int&gt;</th><th scope=col>&lt;int&gt;</th><th scope=col>&lt;int&gt;</th><th scope=col>&lt;int&gt;</th><th scope=col>&lt;int&gt;</th><th scope=col>&lt;int&gt;</th></tr>\n",
       "</thead>\n",
       "<tbody>\n",
       "\t<tr><th scope=row>1</th><td>0610005C13Rik</td><td>  11</td><td>  12</td><td>  10</td><td>   9</td><td>  20</td><td>  15</td><td>  10</td><td>   9</td><td>   8</td><td>   6</td><td>  11</td><td>  14</td></tr>\n",
       "\t<tr><th scope=row>2</th><td>0610006L08Rik</td><td>   0</td><td>   0</td><td>   0</td><td>   0</td><td>   0</td><td>   0</td><td>   0</td><td>   0</td><td>   1</td><td>   0</td><td>   0</td><td>   0</td></tr>\n",
       "\t<tr><th scope=row>3</th><td>0610009B22Rik</td><td> 738</td><td> 572</td><td> 605</td><td> 713</td><td> 588</td><td> 660</td><td> 757</td><td> 581</td><td> 560</td><td> 730</td><td> 663</td><td> 783</td></tr>\n",
       "\t<tr><th scope=row>4</th><td>0610009E02Rik</td><td>   8</td><td>  12</td><td>  14</td><td>  23</td><td>  22</td><td>  19</td><td>  18</td><td>  10</td><td>  16</td><td>  11</td><td>  30</td><td>  18</td></tr>\n",
       "\t<tr><th scope=row>5</th><td>0610009L18Rik</td><td>  24</td><td>  13</td><td>  22</td><td>  39</td><td>  29</td><td>  17</td><td>  26</td><td>  30</td><td>  55</td><td>  54</td><td>  43</td><td>  52</td></tr>\n",
       "\t<tr><th scope=row>6</th><td>0610010F05Rik</td><td>3265</td><td>2507</td><td>2386</td><td>2942</td><td>2152</td><td>2379</td><td>3497</td><td>2713</td><td>2156</td><td>2764</td><td>2079</td><td>2929</td></tr>\n",
       "</tbody>\n",
       "</table>\n"
      ],
      "text/latex": [
       "A data.frame: 6 x 13\n",
       "\\begin{tabular}{r|lllllllllllll}\n",
       "  & gene\\_name & pomt1Neg\\_1 & pomt1Neg\\_2 & pomt1Neg\\_3 & pomt1Pos\\_1 & pomt1Pos\\_2 & pomt1Pos\\_3 & rosa26Neg\\_1 & rosa26Neg\\_2 & rosa26Neg\\_3 & rosa26Pos\\_1 & rosa26Pos\\_2 & rosa26Pos\\_3\\\\\n",
       "  & <chr> & <int> & <int> & <int> & <int> & <int> & <int> & <int> & <int> & <int> & <int> & <int> & <int>\\\\\n",
       "\\hline\n",
       "\t1 & 0610005C13Rik &   11 &   12 &   10 &    9 &   20 &   15 &   10 &    9 &    8 &    6 &   11 &   14\\\\\n",
       "\t2 & 0610006L08Rik &    0 &    0 &    0 &    0 &    0 &    0 &    0 &    0 &    1 &    0 &    0 &    0\\\\\n",
       "\t3 & 0610009B22Rik &  738 &  572 &  605 &  713 &  588 &  660 &  757 &  581 &  560 &  730 &  663 &  783\\\\\n",
       "\t4 & 0610009E02Rik &    8 &   12 &   14 &   23 &   22 &   19 &   18 &   10 &   16 &   11 &   30 &   18\\\\\n",
       "\t5 & 0610009L18Rik &   24 &   13 &   22 &   39 &   29 &   17 &   26 &   30 &   55 &   54 &   43 &   52\\\\\n",
       "\t6 & 0610010F05Rik & 3265 & 2507 & 2386 & 2942 & 2152 & 2379 & 3497 & 2713 & 2156 & 2764 & 2079 & 2929\\\\\n",
       "\\end{tabular}\n"
      ],
      "text/markdown": [
       "\n",
       "A data.frame: 6 x 13\n",
       "\n",
       "| <!--/--> | gene_name &lt;chr&gt; | pomt1Neg_1 &lt;int&gt; | pomt1Neg_2 &lt;int&gt; | pomt1Neg_3 &lt;int&gt; | pomt1Pos_1 &lt;int&gt; | pomt1Pos_2 &lt;int&gt; | pomt1Pos_3 &lt;int&gt; | rosa26Neg_1 &lt;int&gt; | rosa26Neg_2 &lt;int&gt; | rosa26Neg_3 &lt;int&gt; | rosa26Pos_1 &lt;int&gt; | rosa26Pos_2 &lt;int&gt; | rosa26Pos_3 &lt;int&gt; |\n",
       "|---|---|---|---|---|---|---|---|---|---|---|---|---|---|\n",
       "| 1 | 0610005C13Rik |   11 |   12 |   10 |    9 |   20 |   15 |   10 |    9 |    8 |    6 |   11 |   14 |\n",
       "| 2 | 0610006L08Rik |    0 |    0 |    0 |    0 |    0 |    0 |    0 |    0 |    1 |    0 |    0 |    0 |\n",
       "| 3 | 0610009B22Rik |  738 |  572 |  605 |  713 |  588 |  660 |  757 |  581 |  560 |  730 |  663 |  783 |\n",
       "| 4 | 0610009E02Rik |    8 |   12 |   14 |   23 |   22 |   19 |   18 |   10 |   16 |   11 |   30 |   18 |\n",
       "| 5 | 0610009L18Rik |   24 |   13 |   22 |   39 |   29 |   17 |   26 |   30 |   55 |   54 |   43 |   52 |\n",
       "| 6 | 0610010F05Rik | 3265 | 2507 | 2386 | 2942 | 2152 | 2379 | 3497 | 2713 | 2156 | 2764 | 2079 | 2929 |\n",
       "\n"
      ],
      "text/plain": [
       "  gene_name     pomt1Neg_1 pomt1Neg_2 pomt1Neg_3 pomt1Pos_1 pomt1Pos_2\n",
       "1 0610005C13Rik   11         12         10          9         20      \n",
       "2 0610006L08Rik    0          0          0          0          0      \n",
       "3 0610009B22Rik  738        572        605        713        588      \n",
       "4 0610009E02Rik    8         12         14         23         22      \n",
       "5 0610009L18Rik   24         13         22         39         29      \n",
       "6 0610010F05Rik 3265       2507       2386       2942       2152      \n",
       "  pomt1Pos_3 rosa26Neg_1 rosa26Neg_2 rosa26Neg_3 rosa26Pos_1 rosa26Pos_2\n",
       "1   15         10           9           8           6          11       \n",
       "2    0          0           0           1           0           0       \n",
       "3  660        757         581         560         730         663       \n",
       "4   19         18          10          16          11          30       \n",
       "5   17         26          30          55          54          43       \n",
       "6 2379       3497        2713        2156        2764        2079       \n",
       "  rosa26Pos_3\n",
       "1   14       \n",
       "2    0       \n",
       "3  783       \n",
       "4   18       \n",
       "5   52       \n",
       "6 2929       "
      ]
     },
     "metadata": {},
     "output_type": "display_data"
    }
   ],
   "source": [
    "colnames(dt) <- c('gene_name', 'pomt1Neg_1', 'pomt1Neg_2', 'pomt1Neg_3', \n",
    "                  'pomt1Pos_1','pomt1Pos_2', 'pomt1Pos_3', 'rosa26Neg_1',\n",
    "                  'rosa26Neg_2','rosa26Neg_3','rosa26Pos_1',\n",
    "                  'rosa26Pos_2', 'rosa26Pos_3')\n",
    "head(dt)"
   ]
  },
  {
   "cell_type": "markdown",
   "id": "75c8df24-19e5-4854-aece-d2fbb4a83ab6",
   "metadata": {},
   "source": [
    "### Filtering lowly expressed genes"
   ]
  },
  {
   "cell_type": "code",
   "execution_count": 131,
   "id": "2c5e21f7-e2d6-41bd-b12a-9797e8bec5fd",
   "metadata": {},
   "outputs": [
    {
     "data": {
      "text/html": [
       "<table class=\"dataframe\">\n",
       "<caption>A matrix: 6 x 12 of type dbl</caption>\n",
       "<thead>\n",
       "\t<tr><th></th><th scope=col>pomt1Neg_1</th><th scope=col>pomt1Neg_2</th><th scope=col>pomt1Neg_3</th><th scope=col>pomt1Pos_1</th><th scope=col>pomt1Pos_2</th><th scope=col>pomt1Pos_3</th><th scope=col>rosa26Neg_1</th><th scope=col>rosa26Neg_2</th><th scope=col>rosa26Neg_3</th><th scope=col>rosa26Pos_1</th><th scope=col>rosa26Pos_2</th><th scope=col>rosa26Pos_3</th></tr>\n",
       "</thead>\n",
       "<tbody>\n",
       "\t<tr><th scope=row>0610005C13Rik</th><td> 0.1978916</td><td> 0.2758823</td><td> 0.2317155</td><td> 0.1519894</td><td> 0.4794370</td><td> 0.3415846</td><td> 0.1636363</td><td> 0.2048449</td><td> 0.2055248</td><td> 0.1177914</td><td> 0.2654158</td><td> 0.2594725</td></tr>\n",
       "\t<tr><th scope=row>0610006L08Rik</th><td> 0.0000000</td><td> 0.0000000</td><td> 0.0000000</td><td> 0.0000000</td><td> 0.0000000</td><td> 0.0000000</td><td> 0.0000000</td><td> 0.0000000</td><td> 0.0256906</td><td> 0.0000000</td><td> 0.0000000</td><td> 0.0000000</td></tr>\n",
       "\t<tr><th scope=row>0610009B22Rik</th><td>13.2767246</td><td>13.1503906</td><td>14.0187854</td><td>12.0409402</td><td>14.0954466</td><td>15.0297213</td><td>12.3872646</td><td>13.2238746</td><td>14.3867337</td><td>14.3312898</td><td>15.9973343</td><td>14.5119285</td></tr>\n",
       "\t<tr><th scope=row>0610009E02Rik</th><td> 0.1439211</td><td> 0.2758823</td><td> 0.3244016</td><td> 0.3884174</td><td> 0.5273807</td><td> 0.4326738</td><td> 0.2945453</td><td> 0.2276054</td><td> 0.4110495</td><td> 0.2159509</td><td> 0.7238613</td><td> 0.3336076</td></tr>\n",
       "\t<tr><th scope=row>0610009L18Rik</th><td> 0.4317634</td><td> 0.2988725</td><td> 0.5097740</td><td> 0.6586209</td><td> 0.6951836</td><td> 0.3871292</td><td> 0.4254543</td><td> 0.6828162</td><td> 1.4129828</td><td> 1.0601228</td><td> 1.0375345</td><td> 0.9637552</td></tr>\n",
       "\t<tr><th scope=row>0610010F05Rik</th><td>58.7378127</td><td>57.6364146</td><td>55.2873089</td><td>49.6836551</td><td>51.5874170</td><td>54.1753135</td><td>57.2235990</td><td>61.7493488</td><td>55.3889249</td><td>54.2625820</td><td>50.1635866</td><td>54.2853623</td></tr>\n",
       "</tbody>\n",
       "</table>\n"
      ],
      "text/latex": [
       "A matrix: 6 x 12 of type dbl\n",
       "\\begin{tabular}{r|llllllllllll}\n",
       "  & pomt1Neg\\_1 & pomt1Neg\\_2 & pomt1Neg\\_3 & pomt1Pos\\_1 & pomt1Pos\\_2 & pomt1Pos\\_3 & rosa26Neg\\_1 & rosa26Neg\\_2 & rosa26Neg\\_3 & rosa26Pos\\_1 & rosa26Pos\\_2 & rosa26Pos\\_3\\\\\n",
       "\\hline\n",
       "\t0610005C13Rik &  0.1978916 &  0.2758823 &  0.2317155 &  0.1519894 &  0.4794370 &  0.3415846 &  0.1636363 &  0.2048449 &  0.2055248 &  0.1177914 &  0.2654158 &  0.2594725\\\\\n",
       "\t0610006L08Rik &  0.0000000 &  0.0000000 &  0.0000000 &  0.0000000 &  0.0000000 &  0.0000000 &  0.0000000 &  0.0000000 &  0.0256906 &  0.0000000 &  0.0000000 &  0.0000000\\\\\n",
       "\t0610009B22Rik & 13.2767246 & 13.1503906 & 14.0187854 & 12.0409402 & 14.0954466 & 15.0297213 & 12.3872646 & 13.2238746 & 14.3867337 & 14.3312898 & 15.9973343 & 14.5119285\\\\\n",
       "\t0610009E02Rik &  0.1439211 &  0.2758823 &  0.3244016 &  0.3884174 &  0.5273807 &  0.4326738 &  0.2945453 &  0.2276054 &  0.4110495 &  0.2159509 &  0.7238613 &  0.3336076\\\\\n",
       "\t0610009L18Rik &  0.4317634 &  0.2988725 &  0.5097740 &  0.6586209 &  0.6951836 &  0.3871292 &  0.4254543 &  0.6828162 &  1.4129828 &  1.0601228 &  1.0375345 &  0.9637552\\\\\n",
       "\t0610010F05Rik & 58.7378127 & 57.6364146 & 55.2873089 & 49.6836551 & 51.5874170 & 54.1753135 & 57.2235990 & 61.7493488 & 55.3889249 & 54.2625820 & 50.1635866 & 54.2853623\\\\\n",
       "\\end{tabular}\n"
      ],
      "text/markdown": [
       "\n",
       "A matrix: 6 x 12 of type dbl\n",
       "\n",
       "| <!--/--> | pomt1Neg_1 | pomt1Neg_2 | pomt1Neg_3 | pomt1Pos_1 | pomt1Pos_2 | pomt1Pos_3 | rosa26Neg_1 | rosa26Neg_2 | rosa26Neg_3 | rosa26Pos_1 | rosa26Pos_2 | rosa26Pos_3 |\n",
       "|---|---|---|---|---|---|---|---|---|---|---|---|---|\n",
       "| 0610005C13Rik |  0.1978916 |  0.2758823 |  0.2317155 |  0.1519894 |  0.4794370 |  0.3415846 |  0.1636363 |  0.2048449 |  0.2055248 |  0.1177914 |  0.2654158 |  0.2594725 |\n",
       "| 0610006L08Rik |  0.0000000 |  0.0000000 |  0.0000000 |  0.0000000 |  0.0000000 |  0.0000000 |  0.0000000 |  0.0000000 |  0.0256906 |  0.0000000 |  0.0000000 |  0.0000000 |\n",
       "| 0610009B22Rik | 13.2767246 | 13.1503906 | 14.0187854 | 12.0409402 | 14.0954466 | 15.0297213 | 12.3872646 | 13.2238746 | 14.3867337 | 14.3312898 | 15.9973343 | 14.5119285 |\n",
       "| 0610009E02Rik |  0.1439211 |  0.2758823 |  0.3244016 |  0.3884174 |  0.5273807 |  0.4326738 |  0.2945453 |  0.2276054 |  0.4110495 |  0.2159509 |  0.7238613 |  0.3336076 |\n",
       "| 0610009L18Rik |  0.4317634 |  0.2988725 |  0.5097740 |  0.6586209 |  0.6951836 |  0.3871292 |  0.4254543 |  0.6828162 |  1.4129828 |  1.0601228 |  1.0375345 |  0.9637552 |\n",
       "| 0610010F05Rik | 58.7378127 | 57.6364146 | 55.2873089 | 49.6836551 | 51.5874170 | 54.1753135 | 57.2235990 | 61.7493488 | 55.3889249 | 54.2625820 | 50.1635866 | 54.2853623 |\n",
       "\n"
      ],
      "text/plain": [
       "              pomt1Neg_1 pomt1Neg_2 pomt1Neg_3 pomt1Pos_1 pomt1Pos_2 pomt1Pos_3\n",
       "0610005C13Rik  0.1978916  0.2758823  0.2317155  0.1519894  0.4794370  0.3415846\n",
       "0610006L08Rik  0.0000000  0.0000000  0.0000000  0.0000000  0.0000000  0.0000000\n",
       "0610009B22Rik 13.2767246 13.1503906 14.0187854 12.0409402 14.0954466 15.0297213\n",
       "0610009E02Rik  0.1439211  0.2758823  0.3244016  0.3884174  0.5273807  0.4326738\n",
       "0610009L18Rik  0.4317634  0.2988725  0.5097740  0.6586209  0.6951836  0.3871292\n",
       "0610010F05Rik 58.7378127 57.6364146 55.2873089 49.6836551 51.5874170 54.1753135\n",
       "              rosa26Neg_1 rosa26Neg_2 rosa26Neg_3 rosa26Pos_1 rosa26Pos_2\n",
       "0610005C13Rik  0.1636363   0.2048449   0.2055248   0.1177914   0.2654158 \n",
       "0610006L08Rik  0.0000000   0.0000000   0.0256906   0.0000000   0.0000000 \n",
       "0610009B22Rik 12.3872646  13.2238746  14.3867337  14.3312898  15.9973343 \n",
       "0610009E02Rik  0.2945453   0.2276054   0.4110495   0.2159509   0.7238613 \n",
       "0610009L18Rik  0.4254543   0.6828162   1.4129828   1.0601228   1.0375345 \n",
       "0610010F05Rik 57.2235990  61.7493488  55.3889249  54.2625820  50.1635866 \n",
       "              rosa26Pos_3\n",
       "0610005C13Rik  0.2594725 \n",
       "0610006L08Rik  0.0000000 \n",
       "0610009B22Rik 14.5119285 \n",
       "0610009E02Rik  0.3336076 \n",
       "0610009L18Rik  0.9637552 \n",
       "0610010F05Rik 54.2853623 "
      ]
     },
     "metadata": {},
     "output_type": "display_data"
    }
   ],
   "source": [
    "# Normalize count table to CPM \n",
    "counttablematrix <- dt %>%\n",
    "  select(-gene_name) %>%\n",
    "  as.matrix()\n",
    "\n",
    "row.names(counttablematrix) <- dt$gene_name\n",
    "counttable_cpm <- cpm(counttablematrix)\n",
    "\n",
    "head(counttable_cpm)"
   ]
  },
  {
   "cell_type": "code",
   "execution_count": 132,
   "id": "f2e88112-b00e-46f9-9d74-ce23780b54c5",
   "metadata": {},
   "outputs": [
    {
     "data": {
      "text/html": [
       "<style>\n",
       ".list-inline {list-style: none; margin:0; padding: 0}\n",
       ".list-inline>li {display: inline-block}\n",
       ".list-inline>li:not(:last-child)::after {content: \"\\00b7\"; padding: 0 .5ex}\n",
       "</style>\n",
       "<ol class=list-inline><li>32246</li><li>12</li></ol>\n"
      ],
      "text/latex": [
       "\\begin{enumerate*}\n",
       "\\item 32246\n",
       "\\item 12\n",
       "\\end{enumerate*}\n"
      ],
      "text/markdown": [
       "1. 32246\n",
       "2. 12\n",
       "\n",
       "\n"
      ],
      "text/plain": [
       "[1] 32246    12"
      ]
     },
     "metadata": {},
     "output_type": "display_data"
    }
   ],
   "source": [
    "dim(counttablematrix)"
   ]
  },
  {
   "cell_type": "markdown",
   "id": "95c62dfa-95ea-41f6-9654-2161d4c119e8",
   "metadata": {},
   "source": [
    "In order for a gene to be retained, it needs to have a count of 0.6 in CPM. mycutoff shows what the threshold for each sample is in terms of raw counts, accounting for differences in library size."
   ]
  },
  {
   "cell_type": "code",
   "execution_count": 133,
   "id": "059024b9-54bd-430f-86ac-fee2391a6c12",
   "metadata": {},
   "outputs": [
    {
     "data": {
      "text/html": [
       "<table class=\"dataframe\">\n",
       "<caption>A data.frame: 12 x 5</caption>\n",
       "<thead>\n",
       "\t<tr><th scope=col>library</th><th scope=col>counts</th><th scope=col>millionreads</th><th scope=col>cpmThreshold</th><th scope=col>mycutoff</th></tr>\n",
       "\t<tr><th scope=col>&lt;chr&gt;</th><th scope=col>&lt;int&gt;</th><th scope=col>&lt;dbl&gt;</th><th scope=col>&lt;dbl&gt;</th><th scope=col>&lt;dbl&gt;</th></tr>\n",
       "</thead>\n",
       "<tbody>\n",
       "\t<tr><td>pomt1Neg_1 </td><td>55585999</td><td>55.58600</td><td>0.2698521</td><td>16.67580</td></tr>\n",
       "\t<tr><td>pomt1Neg_2 </td><td>43496807</td><td>43.49681</td><td>0.3448529</td><td>13.04904</td></tr>\n",
       "\t<tr><td>pomt1Neg_3 </td><td>43156378</td><td>43.15638</td><td>0.3475732</td><td>12.94691</td></tr>\n",
       "\t<tr><td>pomt1Pos_1 </td><td>59214645</td><td>59.21464</td><td>0.2533157</td><td>17.76439</td></tr>\n",
       "\t<tr><td>pomt1Pos_2 </td><td>41715599</td><td>41.71560</td><td>0.3595777</td><td>12.51468</td></tr>\n",
       "\t<tr><td>pomt1Pos_3 </td><td>43912990</td><td>43.91299</td><td>0.3415846</td><td>13.17390</td></tr>\n",
       "\t<tr><td>rosa26Neg_1</td><td>61111151</td><td>61.11115</td><td>0.2454544</td><td>18.33335</td></tr>\n",
       "\t<tr><td>rosa26Neg_2</td><td>43935686</td><td>43.93569</td><td>0.3414081</td><td>13.18071</td></tr>\n",
       "\t<tr><td>rosa26Neg_3</td><td>38924749</td><td>38.92475</td><td>0.3853589</td><td>11.67742</td></tr>\n",
       "\t<tr><td>rosa26Pos_1</td><td>50937495</td><td>50.93749</td><td>0.2944786</td><td>15.28125</td></tr>\n",
       "\t<tr><td>rosa26Pos_2</td><td>41444405</td><td>41.44441</td><td>0.3619306</td><td>12.43332</td></tr>\n",
       "\t<tr><td>rosa26Pos_3</td><td>53955613</td><td>53.95561</td><td>0.2780063</td><td>16.18668</td></tr>\n",
       "</tbody>\n",
       "</table>\n"
      ],
      "text/latex": [
       "A data.frame: 12 x 5\n",
       "\\begin{tabular}{lllll}\n",
       " library & counts & millionreads & cpmThreshold & mycutoff\\\\\n",
       " <chr> & <int> & <dbl> & <dbl> & <dbl>\\\\\n",
       "\\hline\n",
       "\t pomt1Neg\\_1  & 55585999 & 55.58600 & 0.2698521 & 16.67580\\\\\n",
       "\t pomt1Neg\\_2  & 43496807 & 43.49681 & 0.3448529 & 13.04904\\\\\n",
       "\t pomt1Neg\\_3  & 43156378 & 43.15638 & 0.3475732 & 12.94691\\\\\n",
       "\t pomt1Pos\\_1  & 59214645 & 59.21464 & 0.2533157 & 17.76439\\\\\n",
       "\t pomt1Pos\\_2  & 41715599 & 41.71560 & 0.3595777 & 12.51468\\\\\n",
       "\t pomt1Pos\\_3  & 43912990 & 43.91299 & 0.3415846 & 13.17390\\\\\n",
       "\t rosa26Neg\\_1 & 61111151 & 61.11115 & 0.2454544 & 18.33335\\\\\n",
       "\t rosa26Neg\\_2 & 43935686 & 43.93569 & 0.3414081 & 13.18071\\\\\n",
       "\t rosa26Neg\\_3 & 38924749 & 38.92475 & 0.3853589 & 11.67742\\\\\n",
       "\t rosa26Pos\\_1 & 50937495 & 50.93749 & 0.2944786 & 15.28125\\\\\n",
       "\t rosa26Pos\\_2 & 41444405 & 41.44441 & 0.3619306 & 12.43332\\\\\n",
       "\t rosa26Pos\\_3 & 53955613 & 53.95561 & 0.2780063 & 16.18668\\\\\n",
       "\\end{tabular}\n"
      ],
      "text/markdown": [
       "\n",
       "A data.frame: 12 x 5\n",
       "\n",
       "| library &lt;chr&gt; | counts &lt;int&gt; | millionreads &lt;dbl&gt; | cpmThreshold &lt;dbl&gt; | mycutoff &lt;dbl&gt; |\n",
       "|---|---|---|---|---|\n",
       "| pomt1Neg_1  | 55585999 | 55.58600 | 0.2698521 | 16.67580 |\n",
       "| pomt1Neg_2  | 43496807 | 43.49681 | 0.3448529 | 13.04904 |\n",
       "| pomt1Neg_3  | 43156378 | 43.15638 | 0.3475732 | 12.94691 |\n",
       "| pomt1Pos_1  | 59214645 | 59.21464 | 0.2533157 | 17.76439 |\n",
       "| pomt1Pos_2  | 41715599 | 41.71560 | 0.3595777 | 12.51468 |\n",
       "| pomt1Pos_3  | 43912990 | 43.91299 | 0.3415846 | 13.17390 |\n",
       "| rosa26Neg_1 | 61111151 | 61.11115 | 0.2454544 | 18.33335 |\n",
       "| rosa26Neg_2 | 43935686 | 43.93569 | 0.3414081 | 13.18071 |\n",
       "| rosa26Neg_3 | 38924749 | 38.92475 | 0.3853589 | 11.67742 |\n",
       "| rosa26Pos_1 | 50937495 | 50.93749 | 0.2944786 | 15.28125 |\n",
       "| rosa26Pos_2 | 41444405 | 41.44441 | 0.3619306 | 12.43332 |\n",
       "| rosa26Pos_3 | 53955613 | 53.95561 | 0.2780063 | 16.18668 |\n",
       "\n"
      ],
      "text/plain": [
       "   library     counts   millionreads cpmThreshold mycutoff\n",
       "1  pomt1Neg_1  55585999 55.58600     0.2698521    16.67580\n",
       "2  pomt1Neg_2  43496807 43.49681     0.3448529    13.04904\n",
       "3  pomt1Neg_3  43156378 43.15638     0.3475732    12.94691\n",
       "4  pomt1Pos_1  59214645 59.21464     0.2533157    17.76439\n",
       "5  pomt1Pos_2  41715599 41.71560     0.3595777    12.51468\n",
       "6  pomt1Pos_3  43912990 43.91299     0.3415846    13.17390\n",
       "7  rosa26Neg_1 61111151 61.11115     0.2454544    18.33335\n",
       "8  rosa26Neg_2 43935686 43.93569     0.3414081    13.18071\n",
       "9  rosa26Neg_3 38924749 38.92475     0.3853589    11.67742\n",
       "10 rosa26Pos_1 50937495 50.93749     0.2944786    15.28125\n",
       "11 rosa26Pos_2 41444405 41.44441     0.3619306    12.43332\n",
       "12 rosa26Pos_3 53955613 53.95561     0.2780063    16.18668"
      ]
     },
     "metadata": {},
     "output_type": "display_data"
    }
   ],
   "source": [
    "dt %>%\n",
    "  select(-gene_name) %>%\n",
    "  purrr::modify(~sum(.)) %>% \n",
    "  distinct() %>%\n",
    "  gather(library, counts) %>%  # split library column into dataset and protocol\n",
    "  mutate(millionreads = counts/(10^6)) %>%\n",
    "  mutate(cpmThreshold = 15/millionreads) %>%\n",
    "  mutate(mycutoff = 0.3 * millionreads)"
   ]
  },
  {
   "cell_type": "code",
   "execution_count": 134,
   "id": "998c1690-3130-4172-ba0e-9f8c85ab0254",
   "metadata": {},
   "outputs": [
    {
     "data": {
      "text/html": [
       "<table class=\"dataframe\">\n",
       "<caption>A matrix: 6 x 12 of type lgl</caption>\n",
       "<thead>\n",
       "\t<tr><th></th><th scope=col>pomt1Neg_1</th><th scope=col>pomt1Neg_2</th><th scope=col>pomt1Neg_3</th><th scope=col>pomt1Pos_1</th><th scope=col>pomt1Pos_2</th><th scope=col>pomt1Pos_3</th><th scope=col>rosa26Neg_1</th><th scope=col>rosa26Neg_2</th><th scope=col>rosa26Neg_3</th><th scope=col>rosa26Pos_1</th><th scope=col>rosa26Pos_2</th><th scope=col>rosa26Pos_3</th></tr>\n",
       "</thead>\n",
       "<tbody>\n",
       "\t<tr><th scope=row>0610005C13Rik</th><td>FALSE</td><td>FALSE</td><td>FALSE</td><td>FALSE</td><td> TRUE</td><td> TRUE</td><td>FALSE</td><td>FALSE</td><td>FALSE</td><td>FALSE</td><td>FALSE</td><td>FALSE</td></tr>\n",
       "\t<tr><th scope=row>0610006L08Rik</th><td>FALSE</td><td>FALSE</td><td>FALSE</td><td>FALSE</td><td>FALSE</td><td>FALSE</td><td>FALSE</td><td>FALSE</td><td>FALSE</td><td>FALSE</td><td>FALSE</td><td>FALSE</td></tr>\n",
       "\t<tr><th scope=row>0610009B22Rik</th><td> TRUE</td><td> TRUE</td><td> TRUE</td><td> TRUE</td><td> TRUE</td><td> TRUE</td><td> TRUE</td><td> TRUE</td><td> TRUE</td><td> TRUE</td><td> TRUE</td><td> TRUE</td></tr>\n",
       "\t<tr><th scope=row>0610009E02Rik</th><td>FALSE</td><td>FALSE</td><td> TRUE</td><td> TRUE</td><td> TRUE</td><td> TRUE</td><td>FALSE</td><td>FALSE</td><td> TRUE</td><td>FALSE</td><td> TRUE</td><td> TRUE</td></tr>\n",
       "\t<tr><th scope=row>0610009L18Rik</th><td> TRUE</td><td>FALSE</td><td> TRUE</td><td> TRUE</td><td> TRUE</td><td> TRUE</td><td> TRUE</td><td> TRUE</td><td> TRUE</td><td> TRUE</td><td> TRUE</td><td> TRUE</td></tr>\n",
       "\t<tr><th scope=row>0610010F05Rik</th><td> TRUE</td><td> TRUE</td><td> TRUE</td><td> TRUE</td><td> TRUE</td><td> TRUE</td><td> TRUE</td><td> TRUE</td><td> TRUE</td><td> TRUE</td><td> TRUE</td><td> TRUE</td></tr>\n",
       "</tbody>\n",
       "</table>\n"
      ],
      "text/latex": [
       "A matrix: 6 x 12 of type lgl\n",
       "\\begin{tabular}{r|llllllllllll}\n",
       "  & pomt1Neg\\_1 & pomt1Neg\\_2 & pomt1Neg\\_3 & pomt1Pos\\_1 & pomt1Pos\\_2 & pomt1Pos\\_3 & rosa26Neg\\_1 & rosa26Neg\\_2 & rosa26Neg\\_3 & rosa26Pos\\_1 & rosa26Pos\\_2 & rosa26Pos\\_3\\\\\n",
       "\\hline\n",
       "\t0610005C13Rik & FALSE & FALSE & FALSE & FALSE &  TRUE &  TRUE & FALSE & FALSE & FALSE & FALSE & FALSE & FALSE\\\\\n",
       "\t0610006L08Rik & FALSE & FALSE & FALSE & FALSE & FALSE & FALSE & FALSE & FALSE & FALSE & FALSE & FALSE & FALSE\\\\\n",
       "\t0610009B22Rik &  TRUE &  TRUE &  TRUE &  TRUE &  TRUE &  TRUE &  TRUE &  TRUE &  TRUE &  TRUE &  TRUE &  TRUE\\\\\n",
       "\t0610009E02Rik & FALSE & FALSE &  TRUE &  TRUE &  TRUE &  TRUE & FALSE & FALSE &  TRUE & FALSE &  TRUE &  TRUE\\\\\n",
       "\t0610009L18Rik &  TRUE & FALSE &  TRUE &  TRUE &  TRUE &  TRUE &  TRUE &  TRUE &  TRUE &  TRUE &  TRUE &  TRUE\\\\\n",
       "\t0610010F05Rik &  TRUE &  TRUE &  TRUE &  TRUE &  TRUE &  TRUE &  TRUE &  TRUE &  TRUE &  TRUE &  TRUE &  TRUE\\\\\n",
       "\\end{tabular}\n"
      ],
      "text/markdown": [
       "\n",
       "A matrix: 6 x 12 of type lgl\n",
       "\n",
       "| <!--/--> | pomt1Neg_1 | pomt1Neg_2 | pomt1Neg_3 | pomt1Pos_1 | pomt1Pos_2 | pomt1Pos_3 | rosa26Neg_1 | rosa26Neg_2 | rosa26Neg_3 | rosa26Pos_1 | rosa26Pos_2 | rosa26Pos_3 |\n",
       "|---|---|---|---|---|---|---|---|---|---|---|---|---|\n",
       "| 0610005C13Rik | FALSE | FALSE | FALSE | FALSE |  TRUE |  TRUE | FALSE | FALSE | FALSE | FALSE | FALSE | FALSE |\n",
       "| 0610006L08Rik | FALSE | FALSE | FALSE | FALSE | FALSE | FALSE | FALSE | FALSE | FALSE | FALSE | FALSE | FALSE |\n",
       "| 0610009B22Rik |  TRUE |  TRUE |  TRUE |  TRUE |  TRUE |  TRUE |  TRUE |  TRUE |  TRUE |  TRUE |  TRUE |  TRUE |\n",
       "| 0610009E02Rik | FALSE | FALSE |  TRUE |  TRUE |  TRUE |  TRUE | FALSE | FALSE |  TRUE | FALSE |  TRUE |  TRUE |\n",
       "| 0610009L18Rik |  TRUE | FALSE |  TRUE |  TRUE |  TRUE |  TRUE |  TRUE |  TRUE |  TRUE |  TRUE |  TRUE |  TRUE |\n",
       "| 0610010F05Rik |  TRUE |  TRUE |  TRUE |  TRUE |  TRUE |  TRUE |  TRUE |  TRUE |  TRUE |  TRUE |  TRUE |  TRUE |\n",
       "\n"
      ],
      "text/plain": [
       "              pomt1Neg_1 pomt1Neg_2 pomt1Neg_3 pomt1Pos_1 pomt1Pos_2 pomt1Pos_3\n",
       "0610005C13Rik FALSE      FALSE      FALSE      FALSE       TRUE       TRUE     \n",
       "0610006L08Rik FALSE      FALSE      FALSE      FALSE      FALSE      FALSE     \n",
       "0610009B22Rik  TRUE       TRUE       TRUE       TRUE       TRUE       TRUE     \n",
       "0610009E02Rik FALSE      FALSE       TRUE       TRUE       TRUE       TRUE     \n",
       "0610009L18Rik  TRUE      FALSE       TRUE       TRUE       TRUE       TRUE     \n",
       "0610010F05Rik  TRUE       TRUE       TRUE       TRUE       TRUE       TRUE     \n",
       "              rosa26Neg_1 rosa26Neg_2 rosa26Neg_3 rosa26Pos_1 rosa26Pos_2\n",
       "0610005C13Rik FALSE       FALSE       FALSE       FALSE       FALSE      \n",
       "0610006L08Rik FALSE       FALSE       FALSE       FALSE       FALSE      \n",
       "0610009B22Rik  TRUE        TRUE        TRUE        TRUE        TRUE      \n",
       "0610009E02Rik FALSE       FALSE        TRUE       FALSE        TRUE      \n",
       "0610009L18Rik  TRUE        TRUE        TRUE        TRUE        TRUE      \n",
       "0610010F05Rik  TRUE        TRUE        TRUE        TRUE        TRUE      \n",
       "              rosa26Pos_3\n",
       "0610005C13Rik FALSE      \n",
       "0610006L08Rik FALSE      \n",
       "0610009B22Rik  TRUE      \n",
       "0610009E02Rik  TRUE      \n",
       "0610009L18Rik  TRUE      \n",
       "0610010F05Rik  TRUE      "
      ]
     },
     "metadata": {},
     "output_type": "display_data"
    }
   ],
   "source": [
    "subsetting_matrix <- counttable_cpm > 0.3\n",
    "head(subsetting_matrix)"
   ]
  },
  {
   "cell_type": "code",
   "execution_count": 135,
   "id": "8d6336fc-c118-41df-aa0e-8c545a8ba447",
   "metadata": {},
   "outputs": [
    {
     "data": {
      "text/html": [
       "<style>\n",
       ".dl-inline {width: auto; margin:0; padding: 0}\n",
       ".dl-inline>dt, .dl-inline>dd {float: none; width: auto; display: inline-block}\n",
       ".dl-inline>dt::after {content: \":\\0020\"; padding-right: .5ex}\n",
       ".dl-inline>dt:not(:first-of-type) {padding-left: .5ex}\n",
       "</style><dl class=dl-inline><dt>0610005C13Rik</dt><dd>FALSE</dd><dt>0610006L08Rik</dt><dd>FALSE</dd><dt>0610009B22Rik</dt><dd>TRUE</dd><dt>0610009E02Rik</dt><dd>TRUE</dd><dt>0610009L18Rik</dt><dd>TRUE</dd><dt>0610010F05Rik</dt><dd>TRUE</dd></dl>\n"
      ],
      "text/latex": [
       "\\begin{description*}\n",
       "\\item[0610005C13Rik] FALSE\n",
       "\\item[0610006L08Rik] FALSE\n",
       "\\item[0610009B22Rik] TRUE\n",
       "\\item[0610009E02Rik] TRUE\n",
       "\\item[0610009L18Rik] TRUE\n",
       "\\item[0610010F05Rik] TRUE\n",
       "\\end{description*}\n"
      ],
      "text/markdown": [
       "0610005C13Rik\n",
       ":   FALSE0610006L08Rik\n",
       ":   FALSE0610009B22Rik\n",
       ":   TRUE0610009E02Rik\n",
       ":   TRUE0610009L18Rik\n",
       ":   TRUE0610010F05Rik\n",
       ":   TRUE\n",
       "\n"
      ],
      "text/plain": [
       "0610005C13Rik 0610006L08Rik 0610009B22Rik 0610009E02Rik 0610009L18Rik \n",
       "        FALSE         FALSE          TRUE          TRUE          TRUE \n",
       "0610010F05Rik \n",
       "         TRUE "
      ]
     },
     "metadata": {},
     "output_type": "display_data"
    }
   ],
   "source": [
    "subsetting_vector <- rowSums(subsetting_matrix) >= 3\n",
    "head(subsetting_vector)"
   ]
  },
  {
   "cell_type": "code",
   "execution_count": 136,
   "id": "2a8e6740-97d2-419d-84b7-41a597cdd6f9",
   "metadata": {},
   "outputs": [
    {
     "data": {
      "text/html": [
       "<style>\n",
       ".list-inline {list-style: none; margin:0; padding: 0}\n",
       ".list-inline>li {display: inline-block}\n",
       ".list-inline>li:not(:last-child)::after {content: \"\\00b7\"; padding: 0 .5ex}\n",
       "</style>\n",
       "<ol class=list-inline><li>17740</li><li>12</li></ol>\n"
      ],
      "text/latex": [
       "\\begin{enumerate*}\n",
       "\\item 17740\n",
       "\\item 12\n",
       "\\end{enumerate*}\n"
      ],
      "text/markdown": [
       "1. 17740\n",
       "2. 12\n",
       "\n",
       "\n"
      ],
      "text/plain": [
       "[1] 17740    12"
      ]
     },
     "metadata": {},
     "output_type": "display_data"
    }
   ],
   "source": [
    "counttablematrix_filt <- counttablematrix[subsetting_vector,]\n",
    "counttablematrix_filt_cpm <- cpm(counttablematrix_filt)\n",
    "dim(counttablematrix_filt_cpm)"
   ]
  },
  {
   "cell_type": "code",
   "execution_count": 137,
   "id": "ab1d98f2-e747-40c3-a692-e3dd78445777",
   "metadata": {},
   "outputs": [],
   "source": [
    "mydgelist <- DGEList(counttablematrix_filt)"
   ]
  },
  {
   "cell_type": "code",
   "execution_count": 76,
   "id": "573f07fc-81da-4aa2-b5fa-705274faf02c",
   "metadata": {},
   "outputs": [
    {
     "data": {
      "text/html": [
       "<table class=\"dataframe\">\n",
       "<caption>A matrix: 6 x 12 of type int</caption>\n",
       "<thead>\n",
       "\t<tr><th></th><th scope=col>pomt1Neg_1</th><th scope=col>pomt1Neg_2</th><th scope=col>pomt1Neg_3</th><th scope=col>pomt1Pos_1</th><th scope=col>pomt1Pos_2</th><th scope=col>pomt1Pos_3</th><th scope=col>rosa26Neg_1</th><th scope=col>rosa26Neg_2</th><th scope=col>rosa26Neg_3</th><th scope=col>rosa26Pos_1</th><th scope=col>rosa26Pos_2</th><th scope=col>rosa26Pos_3</th></tr>\n",
       "</thead>\n",
       "<tbody>\n",
       "\t<tr><th scope=row>0610009B22Rik</th><td> 738</td><td> 572</td><td> 605</td><td> 713</td><td> 588</td><td> 660</td><td> 757</td><td> 581</td><td> 560</td><td> 730</td><td> 663</td><td> 783</td></tr>\n",
       "\t<tr><th scope=row>0610009E02Rik</th><td>   8</td><td>  12</td><td>  14</td><td>  23</td><td>  22</td><td>  19</td><td>  18</td><td>  10</td><td>  16</td><td>  11</td><td>  30</td><td>  18</td></tr>\n",
       "\t<tr><th scope=row>0610009L18Rik</th><td>  24</td><td>  13</td><td>  22</td><td>  39</td><td>  29</td><td>  17</td><td>  26</td><td>  30</td><td>  55</td><td>  54</td><td>  43</td><td>  52</td></tr>\n",
       "\t<tr><th scope=row>0610010F05Rik</th><td>3265</td><td>2507</td><td>2386</td><td>2942</td><td>2152</td><td>2379</td><td>3497</td><td>2713</td><td>2156</td><td>2764</td><td>2079</td><td>2929</td></tr>\n",
       "\t<tr><th scope=row>0610010K14Rik</th><td> 479</td><td> 365</td><td> 369</td><td> 548</td><td> 421</td><td> 484</td><td> 507</td><td> 411</td><td> 347</td><td> 492</td><td> 537</td><td> 604</td></tr>\n",
       "\t<tr><th scope=row>0610012G03Rik</th><td> 581</td><td> 491</td><td> 475</td><td> 592</td><td> 431</td><td> 544</td><td> 657</td><td> 520</td><td> 431</td><td> 533</td><td> 421</td><td> 607</td></tr>\n",
       "</tbody>\n",
       "</table>\n"
      ],
      "text/latex": [
       "A matrix: 6 x 12 of type int\n",
       "\\begin{tabular}{r|llllllllllll}\n",
       "  & pomt1Neg\\_1 & pomt1Neg\\_2 & pomt1Neg\\_3 & pomt1Pos\\_1 & pomt1Pos\\_2 & pomt1Pos\\_3 & rosa26Neg\\_1 & rosa26Neg\\_2 & rosa26Neg\\_3 & rosa26Pos\\_1 & rosa26Pos\\_2 & rosa26Pos\\_3\\\\\n",
       "\\hline\n",
       "\t0610009B22Rik &  738 &  572 &  605 &  713 &  588 &  660 &  757 &  581 &  560 &  730 &  663 &  783\\\\\n",
       "\t0610009E02Rik &    8 &   12 &   14 &   23 &   22 &   19 &   18 &   10 &   16 &   11 &   30 &   18\\\\\n",
       "\t0610009L18Rik &   24 &   13 &   22 &   39 &   29 &   17 &   26 &   30 &   55 &   54 &   43 &   52\\\\\n",
       "\t0610010F05Rik & 3265 & 2507 & 2386 & 2942 & 2152 & 2379 & 3497 & 2713 & 2156 & 2764 & 2079 & 2929\\\\\n",
       "\t0610010K14Rik &  479 &  365 &  369 &  548 &  421 &  484 &  507 &  411 &  347 &  492 &  537 &  604\\\\\n",
       "\t0610012G03Rik &  581 &  491 &  475 &  592 &  431 &  544 &  657 &  520 &  431 &  533 &  421 &  607\\\\\n",
       "\\end{tabular}\n"
      ],
      "text/markdown": [
       "\n",
       "A matrix: 6 x 12 of type int\n",
       "\n",
       "| <!--/--> | pomt1Neg_1 | pomt1Neg_2 | pomt1Neg_3 | pomt1Pos_1 | pomt1Pos_2 | pomt1Pos_3 | rosa26Neg_1 | rosa26Neg_2 | rosa26Neg_3 | rosa26Pos_1 | rosa26Pos_2 | rosa26Pos_3 |\n",
       "|---|---|---|---|---|---|---|---|---|---|---|---|---|\n",
       "| 0610009B22Rik |  738 |  572 |  605 |  713 |  588 |  660 |  757 |  581 |  560 |  730 |  663 |  783 |\n",
       "| 0610009E02Rik |    8 |   12 |   14 |   23 |   22 |   19 |   18 |   10 |   16 |   11 |   30 |   18 |\n",
       "| 0610009L18Rik |   24 |   13 |   22 |   39 |   29 |   17 |   26 |   30 |   55 |   54 |   43 |   52 |\n",
       "| 0610010F05Rik | 3265 | 2507 | 2386 | 2942 | 2152 | 2379 | 3497 | 2713 | 2156 | 2764 | 2079 | 2929 |\n",
       "| 0610010K14Rik |  479 |  365 |  369 |  548 |  421 |  484 |  507 |  411 |  347 |  492 |  537 |  604 |\n",
       "| 0610012G03Rik |  581 |  491 |  475 |  592 |  431 |  544 |  657 |  520 |  431 |  533 |  421 |  607 |\n",
       "\n"
      ],
      "text/plain": [
       "              pomt1Neg_1 pomt1Neg_2 pomt1Neg_3 pomt1Pos_1 pomt1Pos_2 pomt1Pos_3\n",
       "0610009B22Rik  738        572        605        713        588        660      \n",
       "0610009E02Rik    8         12         14         23         22         19      \n",
       "0610009L18Rik   24         13         22         39         29         17      \n",
       "0610010F05Rik 3265       2507       2386       2942       2152       2379      \n",
       "0610010K14Rik  479        365        369        548        421        484      \n",
       "0610012G03Rik  581        491        475        592        431        544      \n",
       "              rosa26Neg_1 rosa26Neg_2 rosa26Neg_3 rosa26Pos_1 rosa26Pos_2\n",
       "0610009B22Rik  757         581         560         730         663       \n",
       "0610009E02Rik   18          10          16          11          30       \n",
       "0610009L18Rik   26          30          55          54          43       \n",
       "0610010F05Rik 3497        2713        2156        2764        2079       \n",
       "0610010K14Rik  507         411         347         492         537       \n",
       "0610012G03Rik  657         520         431         533         421       \n",
       "              rosa26Pos_3\n",
       "0610009B22Rik  783       \n",
       "0610009E02Rik   18       \n",
       "0610009L18Rik   52       \n",
       "0610010F05Rik 2929       \n",
       "0610010K14Rik  604       \n",
       "0610012G03Rik  607       "
      ]
     },
     "metadata": {},
     "output_type": "display_data"
    }
   ],
   "source": [
    "head(mydgelist$counts)"
   ]
  },
  {
   "cell_type": "code",
   "execution_count": 138,
   "id": "e2b01957-7052-4b8c-b0fd-515d4da28ac8",
   "metadata": {},
   "outputs": [
    {
     "data": {
      "image/png": "[encoded data removed]",
      "text/plain": [
       "plot without title"
      ]
     },
     "metadata": {
      "image/png": {
       "height": 420,
       "width": 420
      }
     },
     "output_type": "display_data"
    }
   ],
   "source": [
    "# Visualization of library size after scaling up to counts oper million \n",
    "mydgelist$samples %>% \n",
    "  as.data.frame() %>%\n",
    "  rownames_to_column() %>%\n",
    "  separate(rowname, into = c(\"treatment\", \"replicate\"), sep=\"_\") %>%\n",
    "  ggplot(aes(y = lib.size, x = treatment, fill = replicate)) +geom_bar(stat = \"identity\", position = \"dodge\") "
   ]
  },
  {
   "cell_type": "markdown",
   "id": "843c89ad-ffc4-4e1f-b7d6-ba23f5568131",
   "metadata": {},
   "source": [
    "## Dim Reduction "
   ]
  },
  {
   "cell_type": "markdown",
   "id": "4c720ada-a843-43c0-a795-8b32c1b4b89e",
   "metadata": {},
   "source": [
    "Allows us to check whether most of the variability in the data is due to the treatment conditions "
   ]
  },
  {
   "cell_type": "code",
   "execution_count": 79,
   "id": "9250a523-4b2a-4925-8cbc-5d4803ee5347",
   "metadata": {},
   "outputs": [
    {
     "name": "stderr",
     "output_type": "stream",
     "text": [
      "Welcome! Want to learn more? See two factoextra-related books at https://goo.gl/ve3WBa\n",
      "\n"
     ]
    }
   ],
   "source": [
    "library(factoextra)"
   ]
  },
  {
   "cell_type": "code",
   "execution_count": 80,
   "id": "a7157335-9d2d-4f62-855d-1b46ef0cebc9",
   "metadata": {},
   "outputs": [],
   "source": [
    "mydgelist_cpm <- cpm(mydgelist, log = TRUE)"
   ]
  },
  {
   "cell_type": "code",
   "execution_count": 82,
   "id": "1366d11d-560e-454b-bd85-0925ef660537",
   "metadata": {},
   "outputs": [
    {
     "data": {
      "image/png": "[encoded data removed]",
      "text/plain": [
       "plot without title"
      ]
     },
     "metadata": {
      "image/png": {
       "height": 420,
       "width": 420
      }
     },
     "output_type": "display_data"
    }
   ],
   "source": [
    "res.pca <- prcomp(t(mydgelist_cpm))\n",
    "colors <- as.factor(str_split(rownames(mydgelist$samples), \"_\", simplify = TRUE)[,1])\n",
    "fviz_pca_ind(res.pca,\n",
    "             col.ind = colors,\n",
    "             palette = \"Set1\",\n",
    "             repel = TRUE,    # Avoid text overlapping\n",
    "             title = \"PCA of POMT IUE data\"\n",
    "             )"
   ]
  },
  {
   "cell_type": "code",
   "execution_count": 84,
   "id": "2217e440-cc81-492d-a8e0-0f1d991e8cb7",
   "metadata": {},
   "outputs": [
    {
     "data": {
      "image/png": "[encoded data removed]",
      "text/plain": [
       "plot without title"
      ]
     },
     "metadata": {
      "image/png": {
       "height": 420,
       "width": 420
      }
     },
     "output_type": "display_data"
    }
   ],
   "source": [
    "plotMDS(mydgelist,col= c(\"red\",\"purple\",\"blue\",\"orange\")[colors])\n",
    "legend(\"topright\",fill=c(\"red\",\"purple\",\"blue\",\"orange\"),legend=levels(colors))"
   ]
  },
  {
   "cell_type": "markdown",
   "id": "65900562-4aaa-4fa2-af0d-91b8b59c9890",
   "metadata": {},
   "source": [
    "### Hierarchical Clustering of most variable genes"
   ]
  },
  {
   "cell_type": "code",
   "execution_count": 86,
   "id": "b309d5d7-5d9f-4593-8eac-a845e4e906bf",
   "metadata": {},
   "outputs": [],
   "source": [
    "most_var_genes <- sort(apply(mydgelist_cpm, 1, var), decreasing=TRUE)[1:500]\n",
    "mydgelist_cpm_most_var <- mydgelist_cpm[most_var_genes,]"
   ]
  },
  {
   "cell_type": "code",
   "execution_count": 90,
   "id": "44e45d04-4ddf-4470-82d9-10b9f697848f",
   "metadata": {},
   "outputs": [
    {
     "data": {
      "text/html": [
       "<table class=\"dataframe\">\n",
       "<caption>A matrix: 6 x 12 of type dbl</caption>\n",
       "<thead>\n",
       "\t<tr><th></th><th scope=col>pomt1Neg_1</th><th scope=col>pomt1Neg_2</th><th scope=col>pomt1Neg_3</th><th scope=col>pomt1Pos_1</th><th scope=col>pomt1Pos_2</th><th scope=col>pomt1Pos_3</th><th scope=col>rosa26Neg_1</th><th scope=col>rosa26Neg_2</th><th scope=col>rosa26Neg_3</th><th scope=col>rosa26Pos_1</th><th scope=col>rosa26Pos_2</th><th scope=col>rosa26Pos_3</th></tr>\n",
       "</thead>\n",
       "<tbody>\n",
       "\t<tr><th scope=row>1110020A21Rik</th><td>-1.134428</td><td>-1.063096</td><td>-0.7989323</td><td>-0.9582894</td><td>-0.5882839</td><td>-0.5096675</td><td>-1.315771</td><td>-0.3346071</td><td>-0.9160056</td><td>-0.9089072</td><td>0.3490428</td><td>-0.6133432</td></tr>\n",
       "\t<tr><th scope=row>1110008P14Rik</th><td> 6.060043</td><td> 6.651183</td><td> 6.4744581</td><td> 6.3581887</td><td> 6.0967614</td><td> 6.2064409</td><td> 6.334072</td><td> 6.5301280</td><td> 5.6419522</td><td> 6.1933957</td><td>5.5180174</td><td> 6.3491524</td></tr>\n",
       "\t<tr><th scope=row>1110002E22Rik</th><td> 1.305188</td><td> 1.621851</td><td> 1.7667978</td><td> 1.3556032</td><td> 1.0895432</td><td> 1.3875906</td><td> 2.239758</td><td> 2.3623518</td><td> 1.3709096</td><td> 1.8066241</td><td>1.4707163</td><td> 1.5715356</td></tr>\n",
       "\t<tr><th scope=row>1110002E22Rik</th><td> 1.305188</td><td> 1.621851</td><td> 1.7667978</td><td> 1.3556032</td><td> 1.0895432</td><td> 1.3875906</td><td> 2.239758</td><td> 2.3623518</td><td> 1.3709096</td><td> 1.8066241</td><td>1.4707163</td><td> 1.5715356</td></tr>\n",
       "\t<tr><th scope=row>1110002E22Rik</th><td> 1.305188</td><td> 1.621851</td><td> 1.7667978</td><td> 1.3556032</td><td> 1.0895432</td><td> 1.3875906</td><td> 2.239758</td><td> 2.3623518</td><td> 1.3709096</td><td> 1.8066241</td><td>1.4707163</td><td> 1.5715356</td></tr>\n",
       "\t<tr><th scope=row>1110002E22Rik</th><td> 1.305188</td><td> 1.621851</td><td> 1.7667978</td><td> 1.3556032</td><td> 1.0895432</td><td> 1.3875906</td><td> 2.239758</td><td> 2.3623518</td><td> 1.3709096</td><td> 1.8066241</td><td>1.4707163</td><td> 1.5715356</td></tr>\n",
       "</tbody>\n",
       "</table>\n"
      ],
      "text/latex": [
       "A matrix: 6 x 12 of type dbl\n",
       "\\begin{tabular}{r|llllllllllll}\n",
       "  & pomt1Neg\\_1 & pomt1Neg\\_2 & pomt1Neg\\_3 & pomt1Pos\\_1 & pomt1Pos\\_2 & pomt1Pos\\_3 & rosa26Neg\\_1 & rosa26Neg\\_2 & rosa26Neg\\_3 & rosa26Pos\\_1 & rosa26Pos\\_2 & rosa26Pos\\_3\\\\\n",
       "\\hline\n",
       "\t1110020A21Rik & -1.134428 & -1.063096 & -0.7989323 & -0.9582894 & -0.5882839 & -0.5096675 & -1.315771 & -0.3346071 & -0.9160056 & -0.9089072 & 0.3490428 & -0.6133432\\\\\n",
       "\t1110008P14Rik &  6.060043 &  6.651183 &  6.4744581 &  6.3581887 &  6.0967614 &  6.2064409 &  6.334072 &  6.5301280 &  5.6419522 &  6.1933957 & 5.5180174 &  6.3491524\\\\\n",
       "\t1110002E22Rik &  1.305188 &  1.621851 &  1.7667978 &  1.3556032 &  1.0895432 &  1.3875906 &  2.239758 &  2.3623518 &  1.3709096 &  1.8066241 & 1.4707163 &  1.5715356\\\\\n",
       "\t1110002E22Rik &  1.305188 &  1.621851 &  1.7667978 &  1.3556032 &  1.0895432 &  1.3875906 &  2.239758 &  2.3623518 &  1.3709096 &  1.8066241 & 1.4707163 &  1.5715356\\\\\n",
       "\t1110002E22Rik &  1.305188 &  1.621851 &  1.7667978 &  1.3556032 &  1.0895432 &  1.3875906 &  2.239758 &  2.3623518 &  1.3709096 &  1.8066241 & 1.4707163 &  1.5715356\\\\\n",
       "\t1110002E22Rik &  1.305188 &  1.621851 &  1.7667978 &  1.3556032 &  1.0895432 &  1.3875906 &  2.239758 &  2.3623518 &  1.3709096 &  1.8066241 & 1.4707163 &  1.5715356\\\\\n",
       "\\end{tabular}\n"
      ],
      "text/markdown": [
       "\n",
       "A matrix: 6 x 12 of type dbl\n",
       "\n",
       "| <!--/--> | pomt1Neg_1 | pomt1Neg_2 | pomt1Neg_3 | pomt1Pos_1 | pomt1Pos_2 | pomt1Pos_3 | rosa26Neg_1 | rosa26Neg_2 | rosa26Neg_3 | rosa26Pos_1 | rosa26Pos_2 | rosa26Pos_3 |\n",
       "|---|---|---|---|---|---|---|---|---|---|---|---|---|\n",
       "| 1110020A21Rik | -1.134428 | -1.063096 | -0.7989323 | -0.9582894 | -0.5882839 | -0.5096675 | -1.315771 | -0.3346071 | -0.9160056 | -0.9089072 | 0.3490428 | -0.6133432 |\n",
       "| 1110008P14Rik |  6.060043 |  6.651183 |  6.4744581 |  6.3581887 |  6.0967614 |  6.2064409 |  6.334072 |  6.5301280 |  5.6419522 |  6.1933957 | 5.5180174 |  6.3491524 |\n",
       "| 1110002E22Rik |  1.305188 |  1.621851 |  1.7667978 |  1.3556032 |  1.0895432 |  1.3875906 |  2.239758 |  2.3623518 |  1.3709096 |  1.8066241 | 1.4707163 |  1.5715356 |\n",
       "| 1110002E22Rik |  1.305188 |  1.621851 |  1.7667978 |  1.3556032 |  1.0895432 |  1.3875906 |  2.239758 |  2.3623518 |  1.3709096 |  1.8066241 | 1.4707163 |  1.5715356 |\n",
       "| 1110002E22Rik |  1.305188 |  1.621851 |  1.7667978 |  1.3556032 |  1.0895432 |  1.3875906 |  2.239758 |  2.3623518 |  1.3709096 |  1.8066241 | 1.4707163 |  1.5715356 |\n",
       "| 1110002E22Rik |  1.305188 |  1.621851 |  1.7667978 |  1.3556032 |  1.0895432 |  1.3875906 |  2.239758 |  2.3623518 |  1.3709096 |  1.8066241 | 1.4707163 |  1.5715356 |\n",
       "\n"
      ],
      "text/plain": [
       "              pomt1Neg_1 pomt1Neg_2 pomt1Neg_3 pomt1Pos_1 pomt1Pos_2 pomt1Pos_3\n",
       "1110020A21Rik -1.134428  -1.063096  -0.7989323 -0.9582894 -0.5882839 -0.5096675\n",
       "1110008P14Rik  6.060043   6.651183   6.4744581  6.3581887  6.0967614  6.2064409\n",
       "1110002E22Rik  1.305188   1.621851   1.7667978  1.3556032  1.0895432  1.3875906\n",
       "1110002E22Rik  1.305188   1.621851   1.7667978  1.3556032  1.0895432  1.3875906\n",
       "1110002E22Rik  1.305188   1.621851   1.7667978  1.3556032  1.0895432  1.3875906\n",
       "1110002E22Rik  1.305188   1.621851   1.7667978  1.3556032  1.0895432  1.3875906\n",
       "              rosa26Neg_1 rosa26Neg_2 rosa26Neg_3 rosa26Pos_1 rosa26Pos_2\n",
       "1110020A21Rik -1.315771   -0.3346071  -0.9160056  -0.9089072  0.3490428  \n",
       "1110008P14Rik  6.334072    6.5301280   5.6419522   6.1933957  5.5180174  \n",
       "1110002E22Rik  2.239758    2.3623518   1.3709096   1.8066241  1.4707163  \n",
       "1110002E22Rik  2.239758    2.3623518   1.3709096   1.8066241  1.4707163  \n",
       "1110002E22Rik  2.239758    2.3623518   1.3709096   1.8066241  1.4707163  \n",
       "1110002E22Rik  2.239758    2.3623518   1.3709096   1.8066241  1.4707163  \n",
       "              rosa26Pos_3\n",
       "1110020A21Rik -0.6133432 \n",
       "1110008P14Rik  6.3491524 \n",
       "1110002E22Rik  1.5715356 \n",
       "1110002E22Rik  1.5715356 \n",
       "1110002E22Rik  1.5715356 \n",
       "1110002E22Rik  1.5715356 "
      ]
     },
     "metadata": {},
     "output_type": "display_data"
    }
   ],
   "source": [
    "head(mydgelist_cpm_most_var)"
   ]
  },
  {
   "cell_type": "code",
   "execution_count": 88,
   "id": "a503a1de-9c4f-4fce-89b4-6945e8796edc",
   "metadata": {},
   "outputs": [
    {
     "data": {
      "image/png": "[encoded data removed]",
      "text/plain": [
       "plot without title"
      ]
     },
     "metadata": {
      "image/png": {
       "height": 420,
       "width": 420
      }
     },
     "output_type": "display_data"
    }
   ],
   "source": [
    "library(pheatmap)\n",
    "# Shows expression in terms of log2 expression level\n",
    "pheatmap(mydgelist_cpm_most_var, show_rownames  = FALSE)"
   ]
  },
  {
   "cell_type": "markdown",
   "id": "2ef92391-a1c9-4971-86a6-eea616fc880c",
   "metadata": {},
   "source": [
    "## DGEA"
   ]
  },
  {
   "cell_type": "code",
   "execution_count": 139,
   "id": "5d78ec60-4c99-42c7-8f09-910310404145",
   "metadata": {},
   "outputs": [
    {
     "data": {
      "text/html": [
       "<table class=\"dataframe\">\n",
       "<caption>A matrix: 6 x 12 of type int</caption>\n",
       "<thead>\n",
       "\t<tr><th></th><th scope=col>pomt1Neg_1</th><th scope=col>pomt1Neg_2</th><th scope=col>pomt1Neg_3</th><th scope=col>pomt1Pos_1</th><th scope=col>pomt1Pos_2</th><th scope=col>pomt1Pos_3</th><th scope=col>rosa26Neg_1</th><th scope=col>rosa26Neg_2</th><th scope=col>rosa26Neg_3</th><th scope=col>rosa26Pos_1</th><th scope=col>rosa26Pos_2</th><th scope=col>rosa26Pos_3</th></tr>\n",
       "</thead>\n",
       "<tbody>\n",
       "\t<tr><th scope=row>0610009B22Rik</th><td> 738</td><td> 572</td><td> 605</td><td> 713</td><td> 588</td><td> 660</td><td> 757</td><td> 581</td><td> 560</td><td> 730</td><td> 663</td><td> 783</td></tr>\n",
       "\t<tr><th scope=row>0610009E02Rik</th><td>   8</td><td>  12</td><td>  14</td><td>  23</td><td>  22</td><td>  19</td><td>  18</td><td>  10</td><td>  16</td><td>  11</td><td>  30</td><td>  18</td></tr>\n",
       "\t<tr><th scope=row>0610009L18Rik</th><td>  24</td><td>  13</td><td>  22</td><td>  39</td><td>  29</td><td>  17</td><td>  26</td><td>  30</td><td>  55</td><td>  54</td><td>  43</td><td>  52</td></tr>\n",
       "\t<tr><th scope=row>0610010F05Rik</th><td>3265</td><td>2507</td><td>2386</td><td>2942</td><td>2152</td><td>2379</td><td>3497</td><td>2713</td><td>2156</td><td>2764</td><td>2079</td><td>2929</td></tr>\n",
       "\t<tr><th scope=row>0610010K14Rik</th><td> 479</td><td> 365</td><td> 369</td><td> 548</td><td> 421</td><td> 484</td><td> 507</td><td> 411</td><td> 347</td><td> 492</td><td> 537</td><td> 604</td></tr>\n",
       "\t<tr><th scope=row>0610012G03Rik</th><td> 581</td><td> 491</td><td> 475</td><td> 592</td><td> 431</td><td> 544</td><td> 657</td><td> 520</td><td> 431</td><td> 533</td><td> 421</td><td> 607</td></tr>\n",
       "</tbody>\n",
       "</table>\n"
      ],
      "text/latex": [
       "A matrix: 6 x 12 of type int\n",
       "\\begin{tabular}{r|llllllllllll}\n",
       "  & pomt1Neg\\_1 & pomt1Neg\\_2 & pomt1Neg\\_3 & pomt1Pos\\_1 & pomt1Pos\\_2 & pomt1Pos\\_3 & rosa26Neg\\_1 & rosa26Neg\\_2 & rosa26Neg\\_3 & rosa26Pos\\_1 & rosa26Pos\\_2 & rosa26Pos\\_3\\\\\n",
       "\\hline\n",
       "\t0610009B22Rik &  738 &  572 &  605 &  713 &  588 &  660 &  757 &  581 &  560 &  730 &  663 &  783\\\\\n",
       "\t0610009E02Rik &    8 &   12 &   14 &   23 &   22 &   19 &   18 &   10 &   16 &   11 &   30 &   18\\\\\n",
       "\t0610009L18Rik &   24 &   13 &   22 &   39 &   29 &   17 &   26 &   30 &   55 &   54 &   43 &   52\\\\\n",
       "\t0610010F05Rik & 3265 & 2507 & 2386 & 2942 & 2152 & 2379 & 3497 & 2713 & 2156 & 2764 & 2079 & 2929\\\\\n",
       "\t0610010K14Rik &  479 &  365 &  369 &  548 &  421 &  484 &  507 &  411 &  347 &  492 &  537 &  604\\\\\n",
       "\t0610012G03Rik &  581 &  491 &  475 &  592 &  431 &  544 &  657 &  520 &  431 &  533 &  421 &  607\\\\\n",
       "\\end{tabular}\n"
      ],
      "text/markdown": [
       "\n",
       "A matrix: 6 x 12 of type int\n",
       "\n",
       "| <!--/--> | pomt1Neg_1 | pomt1Neg_2 | pomt1Neg_3 | pomt1Pos_1 | pomt1Pos_2 | pomt1Pos_3 | rosa26Neg_1 | rosa26Neg_2 | rosa26Neg_3 | rosa26Pos_1 | rosa26Pos_2 | rosa26Pos_3 |\n",
       "|---|---|---|---|---|---|---|---|---|---|---|---|---|\n",
       "| 0610009B22Rik |  738 |  572 |  605 |  713 |  588 |  660 |  757 |  581 |  560 |  730 |  663 |  783 |\n",
       "| 0610009E02Rik |    8 |   12 |   14 |   23 |   22 |   19 |   18 |   10 |   16 |   11 |   30 |   18 |\n",
       "| 0610009L18Rik |   24 |   13 |   22 |   39 |   29 |   17 |   26 |   30 |   55 |   54 |   43 |   52 |\n",
       "| 0610010F05Rik | 3265 | 2507 | 2386 | 2942 | 2152 | 2379 | 3497 | 2713 | 2156 | 2764 | 2079 | 2929 |\n",
       "| 0610010K14Rik |  479 |  365 |  369 |  548 |  421 |  484 |  507 |  411 |  347 |  492 |  537 |  604 |\n",
       "| 0610012G03Rik |  581 |  491 |  475 |  592 |  431 |  544 |  657 |  520 |  431 |  533 |  421 |  607 |\n",
       "\n"
      ],
      "text/plain": [
       "              pomt1Neg_1 pomt1Neg_2 pomt1Neg_3 pomt1Pos_1 pomt1Pos_2 pomt1Pos_3\n",
       "0610009B22Rik  738        572        605        713        588        660      \n",
       "0610009E02Rik    8         12         14         23         22         19      \n",
       "0610009L18Rik   24         13         22         39         29         17      \n",
       "0610010F05Rik 3265       2507       2386       2942       2152       2379      \n",
       "0610010K14Rik  479        365        369        548        421        484      \n",
       "0610012G03Rik  581        491        475        592        431        544      \n",
       "              rosa26Neg_1 rosa26Neg_2 rosa26Neg_3 rosa26Pos_1 rosa26Pos_2\n",
       "0610009B22Rik  757         581         560         730         663       \n",
       "0610009E02Rik   18          10          16          11          30       \n",
       "0610009L18Rik   26          30          55          54          43       \n",
       "0610010F05Rik 3497        2713        2156        2764        2079       \n",
       "0610010K14Rik  507         411         347         492         537       \n",
       "0610012G03Rik  657         520         431         533         421       \n",
       "              rosa26Pos_3\n",
       "0610009B22Rik  783       \n",
       "0610009E02Rik   18       \n",
       "0610009L18Rik   52       \n",
       "0610010F05Rik 2929       \n",
       "0610010K14Rik  604       \n",
       "0610012G03Rik  607       "
      ]
     },
     "metadata": {},
     "output_type": "display_data"
    }
   ],
   "source": [
    "head(counttablematrix_filt)"
   ]
  },
  {
   "cell_type": "code",
   "execution_count": 140,
   "id": "7a164e29-64d3-45a6-8a4c-24ee7ad36064",
   "metadata": {},
   "outputs": [],
   "source": [
    "colors <- as.factor(str_split(rownames(mydgelist$samples), \"_\", simplify = TRUE)[,1])\n",
    "conditions <- c(\"pomt1Neg\", \"pomt1Neg\", \"pomt1Neg\", \n",
    "                \"pomt1Pos\", \"pomt1Pos\", \"pomt1Pos\", \"rosa26Neg\", \"rosa26Neg\", \n",
    "                \"rosa26Neg\", \"rosa26Pos\", \"rosa26Pos\", \"rosa26Pos\")"
   ]
  },
  {
   "cell_type": "code",
   "execution_count": 141,
   "id": "50b722b0-0165-4646-808e-679431cc9a4c",
   "metadata": {},
   "outputs": [
    {
     "data": {
      "text/html": [
       "<style>\n",
       ".list-inline {list-style: none; margin:0; padding: 0}\n",
       ".list-inline>li {display: inline-block}\n",
       ".list-inline>li:not(:last-child)::after {content: \"\\00b7\"; padding: 0 .5ex}\n",
       "</style>\n",
       "<ol class=list-inline><li>'pomt1Neg'</li><li>'pomt1Pos'</li><li>'rosa26Neg'</li><li>'rosa26Pos'</li></ol>\n"
      ],
      "text/latex": [
       "\\begin{enumerate*}\n",
       "\\item 'pomt1Neg'\n",
       "\\item 'pomt1Pos'\n",
       "\\item 'rosa26Neg'\n",
       "\\item 'rosa26Pos'\n",
       "\\end{enumerate*}\n"
      ],
      "text/markdown": [
       "1. 'pomt1Neg'\n",
       "2. 'pomt1Pos'\n",
       "3. 'rosa26Neg'\n",
       "4. 'rosa26Pos'\n",
       "\n",
       "\n"
      ],
      "text/plain": [
       "[1] \"pomt1Neg\"  \"pomt1Pos\"  \"rosa26Neg\" \"rosa26Pos\""
      ]
     },
     "metadata": {},
     "output_type": "display_data"
    }
   ],
   "source": [
    "levels(colors)"
   ]
  },
  {
   "cell_type": "code",
   "execution_count": 142,
   "id": "27db95ec-d74d-463e-a65b-900d3105a770",
   "metadata": {},
   "outputs": [
    {
     "name": "stderr",
     "output_type": "stream",
     "text": [
      "Warning message in DESeqDataSet(se, design = design, ignoreRank):\n",
      "\"some variables in design formula are characters, converting to factors\"\n"
     ]
    }
   ],
   "source": [
    "dds <- DESeqDataSetFromMatrix(countData=counttablematrix_filt, colData=DataFrame(conditions), design= ~conditions)"
   ]
  },
  {
   "cell_type": "code",
   "execution_count": 143,
   "id": "40a6c744-0339-4a6b-9400-e9ac99dd432f",
   "metadata": {},
   "outputs": [
    {
     "data": {
      "text/plain": [
       "class: DESeqDataSet \n",
       "dim: 17740 12 \n",
       "metadata(1): version\n",
       "assays(1): counts\n",
       "rownames(17740): 0610009B22Rik 0610009E02Rik ... mt-Nd5 mt-Nd6\n",
       "rowData names(0):\n",
       "colnames(12): pomt1Neg_1 pomt1Neg_2 ... rosa26Pos_2 rosa26Pos_3\n",
       "colData names(1): conditions"
      ]
     },
     "metadata": {},
     "output_type": "display_data"
    }
   ],
   "source": [
    "dds"
   ]
  },
  {
   "cell_type": "code",
   "execution_count": 144,
   "id": "a433acf6-d643-490a-89d1-7daaa6c743c1",
   "metadata": {},
   "outputs": [],
   "source": [
    "dds$conditions <- factor(dds$conditions, levels = c('pomt1Neg', 'pomt1Pos', 'rosa26Neg', 'rosa26Pos'))"
   ]
  },
  {
   "cell_type": "code",
   "execution_count": 148,
   "id": "0a1c3c2d-5733-4b10-9e7e-d05235d90b3e",
   "metadata": {},
   "outputs": [
    {
     "name": "stderr",
     "output_type": "stream",
     "text": [
      "using pre-existing size factors\n",
      "\n",
      "estimating dispersions\n",
      "\n",
      "found already estimated dispersions, replacing these\n",
      "\n",
      "gene-wise dispersion estimates\n",
      "\n",
      "mean-dispersion relationship\n",
      "\n",
      "final dispersion estimates\n",
      "\n",
      "fitting model and testing\n",
      "\n"
     ]
    }
   ],
   "source": [
    "dds <- DESeq(dds)"
   ]
  },
  {
   "cell_type": "code",
   "execution_count": 153,
   "id": "ab350e3e-d7c5-4c5b-a466-4342528ef313",
   "metadata": {},
   "outputs": [
    {
     "data": {
      "text/html": [
       "<style>\n",
       ".list-inline {list-style: none; margin:0; padding: 0}\n",
       ".list-inline>li {display: inline-block}\n",
       ".list-inline>li:not(:last-child)::after {content: \"\\00b7\"; padding: 0 .5ex}\n",
       "</style>\n",
       "<ol class=list-inline><li>'pomt1Neg'</li><li>'pomt1Pos'</li><li>'rosa26Neg'</li><li>'rosa26Pos'</li></ol>\n"
      ],
      "text/latex": [
       "\\begin{enumerate*}\n",
       "\\item 'pomt1Neg'\n",
       "\\item 'pomt1Pos'\n",
       "\\item 'rosa26Neg'\n",
       "\\item 'rosa26Pos'\n",
       "\\end{enumerate*}\n"
      ],
      "text/markdown": [
       "1. 'pomt1Neg'\n",
       "2. 'pomt1Pos'\n",
       "3. 'rosa26Neg'\n",
       "4. 'rosa26Pos'\n",
       "\n",
       "\n"
      ],
      "text/plain": [
       "[1] \"pomt1Neg\"  \"pomt1Pos\"  \"rosa26Neg\" \"rosa26Pos\""
      ]
     },
     "metadata": {},
     "output_type": "display_data"
    }
   ],
   "source": [
    "levels(dds$conditions)"
   ]
  },
  {
   "cell_type": "code",
   "execution_count": 157,
   "id": "5c2b54b9-acea-4b43-9a48-19c3f8022038",
   "metadata": {},
   "outputs": [
    {
     "data": {
      "text/plain": [
       "log2 fold change (MLE): conditions pomt1Pos vs pomt1Neg \n",
       "Wald test p-value: conditions pomt1Pos vs pomt1Neg \n",
       "DataFrame with 17740 rows and 6 columns\n",
       "               baseMean log2FoldChange     lfcSE      stat    pvalue      padj\n",
       "              <numeric>      <numeric> <numeric> <numeric> <numeric> <numeric>\n",
       "0610009B22Rik  658.2033      -0.041330 0.0994631 -0.415531 0.6777534  0.961388\n",
       "0610009E02Rik   16.7958       0.805051 0.5473398  1.470844 0.1413334  0.781820\n",
       "0610009L18Rik   33.4337       0.426303 0.4800171  0.888099 0.3744876  0.901680\n",
       "0610010F05Rik 2622.3490      -0.206918 0.0927550 -2.230806 0.0256940  0.437221\n",
       "0610010K14Rik  458.3187       0.182456 0.1094829  1.666524 0.0956091  0.725448\n",
       "...                 ...            ...       ...       ...       ...       ...\n",
       "mt-Nd3          38472.5     -0.1540158  0.168183 -0.915765  0.359790  0.897195\n",
       "mt-Nd4         374989.1     -0.0681148  0.239337 -0.284598  0.775952  0.973943\n",
       "mt-Nd4l         48668.3     -0.1087256  0.247837 -0.438697  0.660881  0.958962\n",
       "mt-Nd5         238841.2     -0.0676792  0.246394 -0.274679  0.783563  0.974515\n",
       "mt-Nd6          50226.0     -0.0548310  0.243324 -0.225342  0.821713  0.981563"
      ]
     },
     "metadata": {},
     "output_type": "display_data"
    }
   ],
   "source": [
    "res1 <- results(dds, name=\"conditions_pomt1Pos_vs_pomt1Neg\")\n",
    "res1"
   ]
  },
  {
   "cell_type": "code",
   "execution_count": 159,
   "id": "9706782a-f550-49b9-aeed-b79253cf7e25",
   "metadata": {},
   "outputs": [
    {
     "data": {
      "text/plain": [
       "log2 fold change (MLE): conditions rosa26Neg vs pomt1Neg \n",
       "Wald test p-value: conditions rosa26Neg vs pomt1Neg \n",
       "DataFrame with 17740 rows and 6 columns\n",
       "               baseMean log2FoldChange     lfcSE      stat    pvalue      padj\n",
       "              <numeric>      <numeric> <numeric> <numeric> <numeric> <numeric>\n",
       "0610009B22Rik  658.2033    -0.06377113 0.0996952 -0.639661 0.5223929  0.959592\n",
       "0610009E02Rik   16.7958     0.28928538 0.5610788  0.515588 0.6061423  0.972882\n",
       "0610009L18Rik   33.4337     0.94312467 0.4725859  1.995668 0.0459701  0.633412\n",
       "0610010F05Rik 2622.3490    -0.02086806 0.0926080 -0.225338 0.8217166  0.988380\n",
       "0610010K14Rik  458.3187     0.00938228 0.1105175  0.084894 0.9323456  0.995132\n",
       "...                 ...            ...       ...       ...       ...       ...\n",
       "mt-Nd3          38472.5      -0.326569  0.168191  -1.94166 0.0521784  0.664075\n",
       "mt-Nd4         374989.1      -0.358677  0.239338  -1.49862 0.1339719  0.825414\n",
       "mt-Nd4l         48668.3      -0.386947  0.247844  -1.56125 0.1184644  0.802850\n",
       "mt-Nd5         238841.2      -0.328672  0.246395  -1.33392 0.1822300  0.868071\n",
       "mt-Nd6          50226.0      -0.289359  0.243329  -1.18917 0.2343738  0.899587"
      ]
     },
     "metadata": {},
     "output_type": "display_data"
    }
   ],
   "source": [
    "res2 <- results(dds, name= \"conditions_rosa26Neg_vs_pomt1Neg\")\n",
    "res2"
   ]
  },
  {
   "cell_type": "markdown",
   "id": "4b39d6eb-1e73-4ff5-ad5c-801154f794f9",
   "metadata": {},
   "source": [
    "#### Misc"
   ]
  },
  {
   "cell_type": "code",
   "execution_count": null,
   "id": "eb543c82-532b-4ada-a35a-3b19502b15ad",
   "metadata": {},
   "outputs": [],
   "source": [
    "   # fc_PEO_RNA <- featureCounts(files=sample_path, annot.ext='/xchip/beroukhimlab/srangasw/POMT/genome/mouse/genes/updated.genes.gtf',isGTFAnnotationFile=TRUE, nthread=32, GTF.featureType=\"exon\", GTF.attrType=\"gene_id\", useMetaFeatures=TRUE, isPairedEnd=T)\n",
    "    # merged_dt <- merge(fc_PEO_RNA$counts, gene_ids_map, by=\"row.names\", all=TRUE)\n",
    "    # merged_dt[[\"V1\"]] <- NULL\n",
    "    # rownames(merged_dt) <- merged_dt$Row.names\n",
    "    # merged_dt$Row.names <- NULL\n",
    "    # setnames(merged_dt, \"V2\", \"gene_name\")"
   ]
  }
 ],
 "metadata": {
  "kernelspec": {
   "display_name": "R",
   "language": "R",
   "name": "ir"
  },
  "language_info": {
   "codemirror_mode": "r",
   "file_extension": ".r",
   "mimetype": "text/x-r-source",
   "name": "R",
   "pygments_lexer": "r",
   "version": "4.4.1"
  }
 },
 "nbformat": 4,
 "nbformat_minor": 5
}
